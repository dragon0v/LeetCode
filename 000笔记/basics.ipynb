{
 "cells": [
  {
   "cell_type": "markdown",
   "metadata": {},
   "source": [
    "# Basics of python  \n"
   ]
  },
  {
   "cell_type": "markdown",
   "metadata": {},
   "source": [
    "## 基础语法\n"
   ]
  },
  {
   "cell_type": "markdown",
   "metadata": {},
   "source": [
    "### 编码\n",
    "python3源码文件默认以UTF-8编码，所有字符串都是unicode字符串  \n",
    "可以使用# -*- coding: xxx -*-指定不同的编码  \n"
   ]
  },
  {
   "cell_type": "code",
   "execution_count": null,
   "metadata": {},
   "outputs": [],
   "source": [
    "# -*- coding: UTF-8 -*-"
   ]
  },
  {
   "cell_type": "markdown",
   "metadata": {},
   "source": [
    "### 标识符\n",
    "* 字母或下划线开头\n",
    "* ~~其他部分由字母数字和下划线组成~~ python3可以用中文，但ASCII标识符除了下划线_均不可使用\n",
    "* 大小写敏感"
   ]
  },
  {
   "cell_type": "markdown",
   "metadata": {},
   "source": [
    "### python保留字\n",
    "保留字即关键字，我们不能把它们用作任何标识符名称  \n",
    "Python 的标准库提供了一个 keyword 模块，可以输出当前版本的所有关键字："
   ]
  },
  {
   "cell_type": "code",
   "execution_count": 1,
   "metadata": {},
   "outputs": [
    {
     "name": "stdout",
     "output_type": "stream",
     "text": [
      "['False', 'None', 'True', 'and', 'as', 'assert', 'async', 'await', 'break', 'class', 'continue', 'def', 'del', 'elif', 'else', 'except', 'finally', 'for', 'from', 'global', 'if', 'import', 'in', 'is', 'lambda', 'nonlocal', 'not', 'or', 'pass', 'raise', 'return', 'try', 'while', 'with', 'yield']\n"
     ]
    }
   ],
   "source": [
    "import keyword\n",
    "print(keyword.kwlist)"
   ]
  },
  {
   "cell_type": "markdown",
   "metadata": {},
   "source": [
    "### 注释\n",
    "单行注释#  \n",
    "多行注释''' \"\"\""
   ]
  },
  {
   "cell_type": "markdown",
   "metadata": {},
   "source": [
    "### 行与缩进\n",
    "用缩进代替代码块，缩进空格数可变，同一个代码块必须用相同的缩进空格数  \n",
    "colab好像就只用一个空格表示缩进"
   ]
  },
  {
   "cell_type": "markdown",
   "metadata": {},
   "source": [
    "### 多行语句\n",
    "可以用反斜杠来实现多行语句  \n",
    "在[],{}或()中的多行语句不需要使用反斜杠  \n",
    "多行字符串需要使用三个引号  "
   ]
  },
  {
   "cell_type": "code",
   "execution_count": 17,
   "metadata": {},
   "outputs": [
    {
     "name": "stdout",
     "output_type": "stream",
     "text": [
      "https://www.baidu.com\n",
      "C:\\Users\\ToxicNeoBanana\\Desktop\\Music\n",
      "https://www.runoob.com/python3/\n",
      "    python3-basic-syntax.html\n"
     ]
    }
   ],
   "source": [
    "url = 'https://' + \\\n",
    "      'www.baidu.com'\n",
    "print(url)\n",
    "import os\n",
    "url = os.path.join(os.path.expanduser('~'),\n",
    "    'Desktop',\n",
    "    'Music')\n",
    "print(url)\n",
    "url = r'''https://www.runoob.com/python3/\n",
    "    python3-basic-syntax.html'''\n",
    "print(url) # TODO 会保留格式？"
   ]
  },
  {
   "cell_type": "code",
   "execution_count": null,
   "metadata": {},
   "outputs": [],
   "source": [
    "## 基础语法"
   ]
  }
 ],
 "metadata": {
  "interpreter": {
   "hash": "da98b85f5fd35f19dc1b02c2d64d6da481fbbc7b2c373d298483d1f27a7dcede"
  },
  "kernelspec": {
   "display_name": "Python 3.8.8 ('YOLOv5')",
   "language": "python",
   "name": "python3"
  },
  "language_info": {
   "codemirror_mode": {
    "name": "ipython",
    "version": 3
   },
   "file_extension": ".py",
   "mimetype": "text/x-python",
   "name": "python",
   "nbconvert_exporter": "python",
   "pygments_lexer": "ipython3",
   "version": "3.8.8"
  },
  "orig_nbformat": 4
 },
 "nbformat": 4,
 "nbformat_minor": 2
}
