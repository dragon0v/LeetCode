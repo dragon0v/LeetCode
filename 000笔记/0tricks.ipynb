{
 "cells": [
  {
   "cell_type": "code",
   "execution_count": 1,
   "metadata": {},
   "outputs": [],
   "source": [
    "from typing import *"
   ]
  },
  {
   "attachments": {},
   "cell_type": "markdown",
   "metadata": {},
   "source": [
    "# 1. int函数中使用or和and  \n",
    "可以用or为空值巧妙提供默认值"
   ]
  },
  {
   "cell_type": "code",
   "execution_count": 9,
   "metadata": {},
   "outputs": [
    {
     "name": "stdout",
     "output_type": "stream",
     "text": [
      "1\n",
      "123\n",
      "456\n",
      "456\n",
      "123\n",
      "456\n"
     ]
    },
    {
     "ename": "ValueError",
     "evalue": "invalid literal for int() with base 10: ''",
     "output_type": "error",
     "traceback": [
      "\u001b[1;31m---------------------------------------------------------------------------\u001b[0m",
      "\u001b[1;31mValueError\u001b[0m                                Traceback (most recent call last)",
      "\u001b[1;32m<ipython-input-9-97cbba44fa06>\u001b[0m in \u001b[0;36m<module>\u001b[1;34m\u001b[0m\n\u001b[0;32m     11\u001b[0m \u001b[0mprint\u001b[0m\u001b[1;33m(\u001b[0m\u001b[0mint\u001b[0m\u001b[1;33m(\u001b[0m\u001b[0mb\u001b[0m \u001b[1;32mand\u001b[0m \u001b[0ms\u001b[0m\u001b[1;33m)\u001b[0m\u001b[1;33m)\u001b[0m\u001b[1;33m\u001b[0m\u001b[1;33m\u001b[0m\u001b[0m\n\u001b[0;32m     12\u001b[0m \u001b[0ms\u001b[0m \u001b[1;33m=\u001b[0m \u001b[1;34m''\u001b[0m\u001b[1;33m\u001b[0m\u001b[1;33m\u001b[0m\u001b[0m\n\u001b[1;32m---> 13\u001b[1;33m \u001b[0mprint\u001b[0m\u001b[1;33m(\u001b[0m\u001b[0mint\u001b[0m\u001b[1;33m(\u001b[0m\u001b[0mb\u001b[0m \u001b[1;32mand\u001b[0m \u001b[0ms\u001b[0m\u001b[1;33m)\u001b[0m\u001b[1;33m)\u001b[0m\u001b[1;33m\u001b[0m\u001b[1;33m\u001b[0m\u001b[0m\n\u001b[0m",
      "\u001b[1;31mValueError\u001b[0m: invalid literal for int() with base 10: ''"
     ]
    }
   ],
   "source": [
    "s = \"\"\n",
    "b = '123'\n",
    "# 若s不为空则返回默认值1\n",
    "print(int(s or '1'))\n",
    "print(int(s or b))\n",
    "s = '456'\n",
    "print(int(s or '1'))\n",
    "print(int(s or b))\n",
    "\n",
    "print(int(s and b))\n",
    "print(int(b and s))\n",
    "s = ''\n",
    "# print(int(b and s))  # 无论bs哪个为空都会报错"
   ]
  },
  {
   "attachments": {},
   "cell_type": "markdown",
   "metadata": {},
   "source": [
    "# 2. sort/sorted比较多个条件（有主次关系）\n",
    "key = lambda x: (f1(x), f2(x),...)"
   ]
  },
  {
   "cell_type": "code",
   "execution_count": null,
   "metadata": {},
   "outputs": [],
   "source": [
    "def frequencySort(nums: List[int]) -> List[int]:\n",
    "    cnt = Counter(nums)\n",
    "    nums.sort(key=lambda x: (cnt[x], -x))  # 使用两个比较条件sort的小窍门，在这里先比较计数，再比较x大小\n",
    "    return nums\n",
    "\n"
   ]
  },
  {
   "attachments": {},
   "cell_type": "markdown",
   "metadata": {},
   "source": [
    "# 3. 数字逐位求和的模板实现\n",
    "字符串型：使用map函数 - map(int,str(n))  \n",
    "整形：TODO"
   ]
  },
  {
   "cell_type": "code",
   "execution_count": 1,
   "metadata": {},
   "outputs": [
    {
     "name": "stdout",
     "output_type": "stream",
     "text": [
      "3.138826300000005\n",
      "4.632290100000006\n"
     ]
    }
   ],
   "source": [
    "# 字符串型数字 使用map(int,str(n))\n",
    "from timeit import timeit\n",
    "t = timeit('sum(map(int, str(12376834267823590821347)))',number=10**6)\n",
    "print(t)\n",
    "t = timeit('sum(int(c) for c in str(12376834267823590821347))',number=10**6)\n",
    "print(t)\n",
    "# 3.1138433  4.3823579"
   ]
  },
  {
   "cell_type": "code",
   "execution_count": null,
   "metadata": {},
   "outputs": [],
   "source": [
    "# 整形数字逐位求和\n",
    "# TODO"
   ]
  },
  {
   "attachments": {},
   "cell_type": "markdown",
   "metadata": {},
   "source": [
    "# 4. 求最小公倍数lcm和最大公约数gcd"
   ]
  },
  {
   "cell_type": "code",
   "execution_count": 6,
   "metadata": {},
   "outputs": [
    {
     "name": "stdout",
     "output_type": "stream",
     "text": [
      "18\n",
      "3\n",
      "63\n",
      "1\n"
     ]
    }
   ],
   "source": [
    "def gcd(a: int, b: int) -> int:\n",
    "    return a if b==0 else gcd(b,a%b)\n",
    "\n",
    "def lcm(a: int, b: int) -> int:\n",
    "    return a*b//gcd(a,b)\n",
    "\n",
    "print(lcm(6,9))\n",
    "print(gcd(6,9))\n",
    "\n",
    "print(lcm(7,9))\n",
    "print(gcd(7,9))"
   ]
  },
  {
   "attachments": {},
   "cell_type": "markdown",
   "metadata": {},
   "source": [
    "# 5. 求前缀和\n",
    "可以用itertools.accumulate(iterable, initial=0)  \n",
    "详见itertools笔记的15"
   ]
  },
  {
   "cell_type": "code",
   "execution_count": 3,
   "metadata": {},
   "outputs": [
    {
     "name": "stdout",
     "output_type": "stream",
     "text": [
      "[1, 3, 6, 10, 15]\n"
     ]
    },
    {
     "ename": "TypeError",
     "evalue": "'initial' is an invalid keyword argument for accumulate()",
     "output_type": "error",
     "traceback": [
      "\u001b[1;31m---------------------------------------------------------------------------\u001b[0m",
      "\u001b[1;31mTypeError\u001b[0m                                 Traceback (most recent call last)",
      "\u001b[1;32m<ipython-input-3-969eed3f45c3>\u001b[0m in \u001b[0;36m<module>\u001b[1;34m\u001b[0m\n\u001b[0;32m      2\u001b[0m \u001b[0ma\u001b[0m \u001b[1;33m=\u001b[0m \u001b[1;33m[\u001b[0m\u001b[1;36m1\u001b[0m\u001b[1;33m,\u001b[0m\u001b[1;36m2\u001b[0m\u001b[1;33m,\u001b[0m\u001b[1;36m3\u001b[0m\u001b[1;33m,\u001b[0m\u001b[1;36m4\u001b[0m\u001b[1;33m,\u001b[0m\u001b[1;36m5\u001b[0m\u001b[1;33m]\u001b[0m\u001b[1;33m\u001b[0m\u001b[1;33m\u001b[0m\u001b[0m\n\u001b[0;32m      3\u001b[0m \u001b[0mprint\u001b[0m\u001b[1;33m(\u001b[0m\u001b[0mlist\u001b[0m\u001b[1;33m(\u001b[0m\u001b[0maccumulate\u001b[0m\u001b[1;33m(\u001b[0m\u001b[0ma\u001b[0m\u001b[1;33m)\u001b[0m\u001b[1;33m)\u001b[0m\u001b[1;33m)\u001b[0m  \u001b[1;31m# py37没有initial参数\u001b[0m\u001b[1;33m\u001b[0m\u001b[1;33m\u001b[0m\u001b[0m\n\u001b[1;32m----> 4\u001b[1;33m \u001b[0mprint\u001b[0m\u001b[1;33m(\u001b[0m\u001b[0mlist\u001b[0m\u001b[1;33m(\u001b[0m\u001b[0maccumulate\u001b[0m\u001b[1;33m(\u001b[0m\u001b[0ma\u001b[0m\u001b[1;33m,\u001b[0m\u001b[0minitial\u001b[0m\u001b[1;33m=\u001b[0m\u001b[1;36m0\u001b[0m\u001b[1;33m)\u001b[0m\u001b[1;33m)\u001b[0m\u001b[1;33m)\u001b[0m  \u001b[1;31m# 需要py38+\u001b[0m\u001b[1;33m\u001b[0m\u001b[1;33m\u001b[0m\u001b[0m\n\u001b[0m",
      "\u001b[1;31mTypeError\u001b[0m: 'initial' is an invalid keyword argument for accumulate()"
     ]
    }
   ],
   "source": [
    "from itertools import accumulate\n",
    "a = [1,2,3,4,5]\n",
    "print(list(accumulate(a)))  # py37没有initial参数, [1, 3, 6, 10, 15]\n",
    "print(list(accumulate(a,initial=0)))  # py38后加入initial参数, [0, 1, 3, 6, 10, 15]"
   ]
  },
  {
   "attachments": {},
   "cell_type": "markdown",
   "metadata": {},
   "source": [
    "# 6. 循环中使用else\n",
    "for和while循环都可以使用else，表示循环正常退出没有被break  \n",
    "可以减少一个flag变量"
   ]
  },
  {
   "cell_type": "code",
   "execution_count": 29,
   "metadata": {},
   "outputs": [
    {
     "name": "stdout",
     "output_type": "stream",
     "text": [
      "0.864115162981989\n",
      "no random bigger than 0.85\n"
     ]
    }
   ],
   "source": [
    "# 启发自LC1764\n",
    "import random\n",
    "# 使用flag判断循环是否正常结束\n",
    "flag = False\n",
    "for i in range(5):\n",
    "    r = random.random()\n",
    "    if r>0.85:\n",
    "        print(r)\n",
    "        flag = True\n",
    "        break\n",
    "if not flag:\n",
    "    print('no random bigger than 0.85')\n",
    "\n",
    "# 使用else判断\n",
    "for i in range(5):\n",
    "    r = random.random()\n",
    "    if r>0.85:\n",
    "        print(r)\n",
    "        break\n",
    "else:\n",
    "    print('no random bigger than 0.85')\n"
   ]
  },
  {
   "attachments": {},
   "cell_type": "markdown",
   "metadata": {},
   "source": [
    "# 7. split默认参数是所有空白字符，包括重复的空格\n",
    "一些题目中会出现分割多个空格间隔的单词，直接使用默认方法即可，使用split(' ')会产生空白字符串\"\""
   ]
  },
  {
   "cell_type": "code",
   "execution_count": 1,
   "metadata": {},
   "outputs": [
    {
     "name": "stdout",
     "output_type": "stream",
     "text": [
      "['', 'sdda', 'ddwq2', '', 'ff', '', 'asd', '', '', '', '', 'fasdwq3', 'add', '!d']\n",
      "['sdda', 'ddwq2', 'ff', 'asd', 'fasdwq3', 'add', '!d']\n"
     ]
    }
   ],
   "source": [
    "sentence = \" sdda ddwq2  ff  asd     fasdwq3 add !d\"\n",
    "print(sentence.split(' '))\n",
    "print(sentence.split())"
   ]
  },
  {
   "attachments": {},
   "cell_type": "markdown",
   "metadata": {},
   "source": [
    "# 8. 可Hash的set：frozenset\n",
    "需要对set进行哈希操作，直接操作是不行的  \n",
    "一种方法是转成列表，排序后再转成字符串  \n",
    "更简单的方法是使用frozenset(set)\n",
    "对于list(set)的形式，可以使用map(frozenmap,list)"
   ]
  },
  {
   "cell_type": "code",
   "execution_count": 6,
   "metadata": {},
   "outputs": [
    {
     "name": "stdout",
     "output_type": "stream",
     "text": [
      "frozenset({1, 2, 3, 4, 87}) 4406244419004363057\n",
      "Counter({frozenset({0, 1, 2, 3, 4, 5, 6, 7, 8}): 4, frozenset({0, 1, 2, 3, 4, 5, 6, 7}): 2, frozenset({0, 1, 2, 3}): 1})\n"
     ]
    }
   ],
   "source": [
    "s = {1,2,3,4,87}\n",
    "fs = frozenset(s)\n",
    "print(fs,hash(fs))\n",
    "# print(hash(s))  # unhashable type: 'set'\n",
    "\n",
    "# 示例：找到list(set)中相同的set个数（启发自LC. 6265）\n",
    "from collections import Counter\n",
    "ls = [set(range(9)),set(range(9)),set(range(9)),set(range(8)),set(range(8)),set(range(9)),set(range(4)),]\n",
    "# print(Counter(ls))  # unhashable type: 'set'\n",
    "print(Counter(map(frozenset,ls)))\n"
   ]
  },
  {
   "attachments": {},
   "cell_type": "markdown",
   "metadata": {},
   "source": [
    "# 9. 通过字符构建字符串考虑使用list+join\n",
    "不要用str += c  \n",
    "考虑str=list(str) str.append(c) str=\"\".join(str)"
   ]
  },
  {
   "cell_type": "code",
   "execution_count": 2,
   "metadata": {},
   "outputs": [
    {
     "name": "stdout",
     "output_type": "stream",
     "text": [
      "0.7232840999999999\n",
      "0.4181758000000002\n"
     ]
    }
   ],
   "source": [
    "from timeit import timeit\n",
    "\n",
    "s = 'acbdef'*10000\n",
    "\n",
    "def f1(s):\n",
    "    res = ''\n",
    "    for i in range(len(s)):\n",
    "        res = res + s[i]\n",
    "    return res\n",
    "\n",
    "def f2(s):\n",
    "    res = []\n",
    "    for i in range(len(s)):\n",
    "        res.append(s[i])\n",
    "    return ''.join(res)\n",
    "t1 = timeit('f1(s)','from __main__ import f1,s',number=100)\n",
    "t2 = timeit('f2(s)','from __main__ import f2,s',number=100)\n",
    "print(t1)\n",
    "print(t2)\n",
    "# 0.7232840999999999\n",
    "# 0.4181758000000002\n",
    "\n"
   ]
  }
 ],
 "metadata": {
  "kernelspec": {
   "display_name": "Python 3.7.3 ('base')",
   "language": "python",
   "name": "python3"
  },
  "language_info": {
   "codemirror_mode": {
    "name": "ipython",
    "version": 3
   },
   "file_extension": ".py",
   "mimetype": "text/x-python",
   "name": "python",
   "nbconvert_exporter": "python",
   "pygments_lexer": "ipython3",
   "version": "3.7.3"
  },
  "orig_nbformat": 4,
  "vscode": {
   "interpreter": {
    "hash": "91bb753b057673435fb8d6f6a083e6c818364728098c7ae050ca3a25357dd754"
   }
  }
 },
 "nbformat": 4,
 "nbformat_minor": 2
}
