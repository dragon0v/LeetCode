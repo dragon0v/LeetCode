{
 "cells": [
  {
   "cell_type": "markdown",
   "metadata": {},
   "source": [
    "python 内置函数  \n",
    "zip([iterable, ...])  \n",
    "\n",
    "zip() 函数用于将可迭代的对象作为参数，将对象中对应的元素打包成一个个元组，(py3)然后返回由这些元组组成的对象，这样做的好处是节约了不少的内存。  \n",
    "\n",
    "我们可以使用 list() 转换来输出列表。  \n",
    "\n",
    "zip(*iterables) --> A zip object yielding tuples until an input is exhausted.  \n",
    "如果各个迭代器的元素个数不一致，则返回列表长度与最短的对象相同\n"
   ]
  },
  {
   "cell_type": "code",
   "execution_count": 25,
   "metadata": {},
   "outputs": [
    {
     "name": "stdout",
     "output_type": "stream",
     "text": [
      "[(1, 5), (2, 6), (3, 7)]\n"
     ]
    }
   ],
   "source": [
    "a = [1,2,3,4]\n",
    "b = (5,6,7)\n",
    "c = zip(a,b)\n",
    "print(list(c))"
   ]
  },
  {
   "cell_type": "markdown",
   "metadata": {},
   "source": [
    "与 zip 相反，zip(*) 可理解为解压，返回二维矩阵式  \n",
    "利用 * 号操作符，可以将元组解压为列表。  "
   ]
  },
  {
   "cell_type": "code",
   "execution_count": 27,
   "metadata": {},
   "outputs": [
    {
     "name": "stdout",
     "output_type": "stream",
     "text": [
      "[]\n",
      "[(1,), (2,), (3,), (4,), (5,)]\n",
      "(1, 2, 3) [5, 6, 7]\n"
     ]
    }
   ],
   "source": [
    "print(list(zip(*c))) # 返回空列表，为什么？\n",
    "aa,bb = zip(*zip(a,b))\n",
    "print(aa,list(bb))"
   ]
  },
  {
   "cell_type": "code",
   "execution_count": 22,
   "metadata": {},
   "outputs": [
    {
     "name": "stdout",
     "output_type": "stream",
     "text": [
      "(1, 2) [3, 4]\n"
     ]
    }
   ],
   "source": [
    "aa,bb = zip(*[(1,3),(2,4)])\n",
    "print(aa,list(bb))"
   ]
  },
  {
   "cell_type": "markdown",
   "metadata": {},
   "source": [
    "试试多个和一个iterable"
   ]
  },
  {
   "cell_type": "code",
   "execution_count": 28,
   "metadata": {},
   "outputs": [
    {
     "name": "stdout",
     "output_type": "stream",
     "text": [
      "[(0, 4, 7), (1, 5, 8), (2, 6, 9)]\n",
      "[(1,), (2,), (3,)]\n"
     ]
    }
   ],
   "source": [
    "a = range(10) # 生成器\n",
    "b = [4,5,6]\n",
    "c = [7,8,9]\n",
    "print(list(zip(a,b,c)))\n",
    "print(list(zip([1,2,3])))"
   ]
  },
  {
   "cell_type": "code",
   "execution_count": 20,
   "metadata": {},
   "outputs": [
    {
     "name": "stdout",
     "output_type": "stream",
     "text": [
      "[(range(0, 10), 4, 7)]\n"
     ]
    }
   ],
   "source": [
    "a = [range(10)]\n",
    "b = [4,5,6]\n",
    "c = [7,8,9]\n",
    "print(list(zip(a,b,c)))\n",
    "# 因为range(10)是生成器，放在列表里就是一个元素"
   ]
  }
 ],
 "metadata": {
  "interpreter": {
   "hash": "044edd02638333129c7e7581011fbcfaeabd3903a3140bacdc4c5b85fecc0d27"
  },
  "kernelspec": {
   "display_name": "Python 3.9.2 64-bit",
   "language": "python",
   "name": "python3"
  },
  "language_info": {
   "codemirror_mode": {
    "name": "ipython",
    "version": 3
   },
   "file_extension": ".py",
   "mimetype": "text/x-python",
   "name": "python",
   "nbconvert_exporter": "python",
   "pygments_lexer": "ipython3",
   "version": "3.9.2"
  },
  "orig_nbformat": 4
 },
 "nbformat": 4,
 "nbformat_minor": 2
}
