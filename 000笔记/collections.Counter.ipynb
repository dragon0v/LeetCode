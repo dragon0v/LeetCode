{
 "cells": [
  {
   "cell_type": "code",
   "execution_count": 1,
   "metadata": {},
   "outputs": [],
   "source": [
    "from collections import Counter"
   ]
  },
  {
   "cell_type": "markdown",
   "metadata": {},
   "source": [
    "参考：  \n",
    "详解Python计数的Counter类 https://zhuanlan.zhihu.com/p/355601478"
   ]
  },
  {
   "cell_type": "markdown",
   "metadata": {},
   "source": [
    "# Counter的实例化"
   ]
  },
  {
   "cell_type": "code",
   "execution_count": 33,
   "metadata": {},
   "outputs": [
    {
     "name": "stdout",
     "output_type": "stream",
     "text": [
      "Counter({'c': 4, 'b': 2, 'a': 1})\n"
     ]
    }
   ],
   "source": [
    "# 实例化一个空对象\n",
    "c1 = Counter()\n",
    "# 从iterable实例化\n",
    "c2 = Counter('asdasdsadaddsadsdd132iis')\n",
    "# 从 mapping 中实例化 Counter 对象，这点和字典的实例化类似\n",
    "c3 = Counter({'a':1, 'b':2, 'c':3})\n",
    "# 从关键词参数中实例化 Counter 对象\n",
    "c4 = Counter(a = 1, b = 2, c = 4)\n",
    "\n",
    "print(c4)"
   ]
  },
  {
   "cell_type": "markdown",
   "metadata": {},
   "source": [
    "# 常用方法\n",
    "1. elements()\n",
    "2. most_common(n)\n",
    "3. subtract([iterable or mapping])"
   ]
  },
  {
   "cell_type": "code",
   "execution_count": 17,
   "metadata": {},
   "outputs": [
    {
     "name": "stdout",
     "output_type": "stream",
     "text": [
      "Counter({'c': 4, 'b': 2, 'a': 1})\n",
      "['a', 'b', 'b', 'c', 'c', 'c', 'c']\n"
     ]
    }
   ],
   "source": [
    "# 1. elements()\n",
    "# 返回一个迭代器，无顺序\n",
    "print(c4)\n",
    "print(list(c4.elements()))"
   ]
  },
  {
   "cell_type": "code",
   "execution_count": 9,
   "metadata": {},
   "outputs": [
    {
     "name": "stdout",
     "output_type": "stream",
     "text": [
      "[('d', 8), ('s', 6), ('a', 5), ('i', 2), ('1', 1), ('3', 1), ('2', 1)]\n"
     ]
    }
   ],
   "source": [
    "# 2. most_common(n)\n",
    "# 返回前n个最常见的元素的[val,freq]对，n可以不给，返回全部元素\n",
    "print(c2.most_common())"
   ]
  },
  {
   "cell_type": "code",
   "execution_count": 35,
   "metadata": {},
   "outputs": [
    {
     "name": "stdout",
     "output_type": "stream",
     "text": [
      "Counter()\n",
      "Counter({'c': 1})\n",
      "Counter({'c': 1, 'a': 0, 'b': 0})\n"
     ]
    }
   ],
   "source": [
    "# 3. subtract([iterable or mapping])\n",
    "# c1.subtract(iterable/mapping/c2)\n",
    "print(c3-c4)\n",
    "print(c4-c3)\n",
    "c4.subtract(c3)\n",
    "print(c4)"
   ]
  },
  {
   "cell_type": "markdown",
   "metadata": {},
   "source": []
  }
 ],
 "metadata": {
  "kernelspec": {
   "display_name": "Python 3.7.3 ('base')",
   "language": "python",
   "name": "python3"
  },
  "language_info": {
   "codemirror_mode": {
    "name": "ipython",
    "version": 3
   },
   "file_extension": ".py",
   "mimetype": "text/x-python",
   "name": "python",
   "nbconvert_exporter": "python",
   "pygments_lexer": "ipython3",
   "version": "3.7.3"
  },
  "orig_nbformat": 4,
  "vscode": {
   "interpreter": {
    "hash": "91bb753b057673435fb8d6f6a083e6c818364728098c7ae050ca3a25357dd754"
   }
  }
 },
 "nbformat": 4,
 "nbformat_minor": 2
}
