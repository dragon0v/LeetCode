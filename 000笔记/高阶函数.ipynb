{
 "cells": [
  {
   "cell_type": "markdown",
   "metadata": {},
   "source": [
    "# python高阶函数  \n",
    "能接收函数作参数的函数就是高阶函数  \n",
    "Ref: [详解Python高阶函数](https://www.jb51.net/article/193357.htm)"
   ]
  },
  {
   "cell_type": "markdown",
   "metadata": {},
   "source": [
    "## 1. map(f,iterable,...)  \n",
    "把函数 f 依次作用在 iterable/iterables 的每个元素上(映射)\n",
    "若给多个iterable，则是对这几个iterable的相同位置元素进行f映射  \n",
    "py2返回列表  \n",
    "py3返回迭代器(map object)  "
   ]
  },
  {
   "cell_type": "code",
   "execution_count": 13,
   "metadata": {},
   "outputs": [
    {
     "name": "stdout",
     "output_type": "stream",
     "text": [
      "[1, 4, 9, 16, 25]\n",
      "[1, 4, 9, 16, 25]\n",
      "[-99, -198, -297]\n"
     ]
    }
   ],
   "source": [
    "a = [1,2,3,4,5]\n",
    "def square(x):\n",
    "    return x**2\n",
    "print(list(map(lambda x:x**2,a)))\n",
    "print(list(map(square,a)))\n",
    "print(list(map(lambda x,y,z:x+y-z,[1,2,3],[11,22,33],[111,222,333])))"
   ]
  },
  {
   "cell_type": "markdown",
   "metadata": {},
   "source": [
    "## 2. reduce(f,iterable,initializer)  \n",
    "要求f接收两个参数，当initializer为空时对iterable按顺序两两进行f映射，存在初值时将初值和iterable的第一个参数进行f  \n",
    "from functools import reduce"
   ]
  },
  {
   "cell_type": "code",
   "execution_count": 24,
   "metadata": {},
   "outputs": [
    {
     "name": "stdout",
     "output_type": "stream",
     "text": [
      "120\n",
      "120000\n",
      "1\n",
      "8.333333333333332\n"
     ]
    }
   ],
   "source": [
    "from functools import reduce\n",
    "print(reduce(lambda x,y : x*y,[1,2,3,4,5]))\n",
    "print(reduce(lambda x,y : x*y,[1,2,3,4,5],1000))\n",
    "print(reduce(lambda x,y : x*y,[1]))\n",
    "print(reduce(lambda x,y : x/y,[1,2,3,4,5],1000))"
   ]
  },
  {
   "cell_type": "markdown",
   "metadata": {},
   "source": [
    "## 3. filter(f,iterable)\n",
    "根据f过滤iterable中的元素，返回新列表，保留相对顺序\n",
    "py2返回列表  \n",
    "py3返回迭代器(filter object)   "
   ]
  },
  {
   "cell_type": "code",
   "execution_count": 34,
   "metadata": {},
   "outputs": [
    {
     "name": "stdout",
     "output_type": "stream",
     "text": [
      "[2, 4, 6]\n",
      "asdiojgsergo098024\n"
     ]
    }
   ],
   "source": [
    "print(list(filter(lambda x:x%2==0, [1,2,3,4,5,6])))\n",
    "def is_alpha_or_number(ch):\n",
    "    return (ord(ch)<=ord('z') and ord(ch)>=ord('a')) or (ord(ch)<=ord('Z') and ord(ch)>=ord('A')) or (ord(ch)<=ord('9') and ord(ch)>=ord('0'))\n",
    "print(''.join(filter(is_alpha_or_number,r'asdiojg;[s][\\ergo0-980你好24')))"
   ]
  }
 ],
 "metadata": {
  "interpreter": {
   "hash": "044edd02638333129c7e7581011fbcfaeabd3903a3140bacdc4c5b85fecc0d27"
  },
  "kernelspec": {
   "display_name": "Python 3.9.2 64-bit",
   "language": "python",
   "name": "python3"
  },
  "language_info": {
   "codemirror_mode": {
    "name": "ipython",
    "version": 3
   },
   "file_extension": ".py",
   "mimetype": "text/x-python",
   "name": "python",
   "nbconvert_exporter": "python",
   "pygments_lexer": "ipython3",
   "version": "3.9.2"
  },
  "orig_nbformat": 4
 },
 "nbformat": 4,
 "nbformat_minor": 2
}
