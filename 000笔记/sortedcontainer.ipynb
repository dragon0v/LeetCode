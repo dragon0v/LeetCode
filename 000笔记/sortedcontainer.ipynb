{
 "cells": [
  {
   "cell_type": "code",
   "execution_count": 3,
   "metadata": {},
   "outputs": [],
   "source": [
    "from sortedcontainers import SortedDict, SortedList, SortedSet"
   ]
  },
  {
   "cell_type": "markdown",
   "metadata": {},
   "source": [
    "ref: https://blog.csdn.net/weixin_43247928/article/details/122652706"
   ]
  },
  {
   "cell_type": "markdown",
   "metadata": {},
   "source": [
    "1. SortedList  \n",
    "时间复杂度: O(n*log(n))"
   ]
  },
  {
   "cell_type": "code",
   "execution_count": 9,
   "metadata": {},
   "outputs": [
    {
     "name": "stdout",
     "output_type": "stream",
     "text": [
      "SortedList([1, 1, 3, 4, 5, 6, 46, 57, 74])\n",
      "SortedKeyList([435, 123, 65, 5, 4, 3, 2, 1], key=<function <lambda> at 0x0000021BA8F67BF8>)\n"
     ]
    }
   ],
   "source": [
    "# 初始化SortedList(iterable)\n",
    "a = SortedList([1,4,6,3,1,5,46,74,57])\n",
    "print(a)\n",
    "# key指定排序方法\n",
    "b = SortedList(set([123,1,2,4,65,1,3,5,435,3]),key=lambda x:-x)\n",
    "print(b)"
   ]
  },
  {
   "cell_type": "code",
   "execution_count": 10,
   "metadata": {},
   "outputs": [
    {
     "name": "stdout",
     "output_type": "stream",
     "text": [
      "SortedList([1, 1, 3, 4, 5, 6, 46, 57, 74, 222333])\n",
      "SortedKeyList([435, 123, 65, 23, 10, 5, 4, 3, 3, 2, 1], key=<function <lambda> at 0x0000021BA8F67BF8>)\n"
     ]
    }
   ],
   "source": [
    "# 插入\n",
    "a.add(222333)  # 单个值\n",
    "print(a)\n",
    "b.update([3,10,23])  # iterable\n",
    "print(b)\n"
   ]
  },
  {
   "cell_type": "code",
   "execution_count": 19,
   "metadata": {},
   "outputs": [
    {
     "name": "stdout",
     "output_type": "stream",
     "text": [
      "SortedList([1, 2, 3, 4, 5, 6, 7, 222333])\n",
      "SortedList([1, 2, 3, 4, 5, 6, 7])\n",
      "SortedList([1, 2, 4, 5, 6, 7])\n",
      "2 SortedList([1, 4, 5, 6, 7])\n",
      "SortedList([1, 5, 6, 7])\n",
      "SortedList([1, 5, 6, 7])\n"
     ]
    },
    {
     "ename": "ValueError",
     "evalue": "99999999 not in list",
     "output_type": "error",
     "traceback": [
      "\u001b[1;31m---------------------------------------------------------------------------\u001b[0m",
      "\u001b[1;31mValueError\u001b[0m                                Traceback (most recent call last)",
      "\u001b[1;32m<ipython-input-19-9b2e53e02367>\u001b[0m in \u001b[0;36m<module>\u001b[1;34m\u001b[0m\n\u001b[0;32m     13\u001b[0m \u001b[0mc\u001b[0m\u001b[1;33m.\u001b[0m\u001b[0mdiscard\u001b[0m\u001b[1;33m(\u001b[0m\u001b[1;36m99999999\u001b[0m\u001b[1;33m)\u001b[0m  \u001b[1;31m# 不报错\u001b[0m\u001b[1;33m\u001b[0m\u001b[1;33m\u001b[0m\u001b[0m\n\u001b[0;32m     14\u001b[0m \u001b[0mprint\u001b[0m\u001b[1;33m(\u001b[0m\u001b[0mc\u001b[0m\u001b[1;33m)\u001b[0m\u001b[1;33m\u001b[0m\u001b[1;33m\u001b[0m\u001b[0m\n\u001b[1;32m---> 15\u001b[1;33m \u001b[0mc\u001b[0m\u001b[1;33m.\u001b[0m\u001b[0mremove\u001b[0m\u001b[1;33m(\u001b[0m\u001b[1;36m99999999\u001b[0m\u001b[1;33m)\u001b[0m  \u001b[1;31m# 报错\u001b[0m\u001b[1;33m\u001b[0m\u001b[1;33m\u001b[0m\u001b[0m\n\u001b[0m",
      "\u001b[1;32me:\\Anaconda\\lib\\site-packages\\sortedcontainers\\sortedlist.py\u001b[0m in \u001b[0;36mremove\u001b[1;34m(self, value)\u001b[0m\n\u001b[0;32m    448\u001b[0m \u001b[1;33m\u001b[0m\u001b[0m\n\u001b[0;32m    449\u001b[0m         \u001b[1;32mif\u001b[0m \u001b[0mpos\u001b[0m \u001b[1;33m==\u001b[0m \u001b[0mlen\u001b[0m\u001b[1;33m(\u001b[0m\u001b[0m_maxes\u001b[0m\u001b[1;33m)\u001b[0m\u001b[1;33m:\u001b[0m\u001b[1;33m\u001b[0m\u001b[1;33m\u001b[0m\u001b[0m\n\u001b[1;32m--> 450\u001b[1;33m             \u001b[1;32mraise\u001b[0m \u001b[0mValueError\u001b[0m\u001b[1;33m(\u001b[0m\u001b[1;34m'{0!r} not in list'\u001b[0m\u001b[1;33m.\u001b[0m\u001b[0mformat\u001b[0m\u001b[1;33m(\u001b[0m\u001b[0mvalue\u001b[0m\u001b[1;33m)\u001b[0m\u001b[1;33m)\u001b[0m\u001b[1;33m\u001b[0m\u001b[1;33m\u001b[0m\u001b[0m\n\u001b[0m\u001b[0;32m    451\u001b[0m \u001b[1;33m\u001b[0m\u001b[0m\n\u001b[0;32m    452\u001b[0m         \u001b[0m_lists\u001b[0m \u001b[1;33m=\u001b[0m \u001b[0mself\u001b[0m\u001b[1;33m.\u001b[0m\u001b[0m_lists\u001b[0m\u001b[1;33m\u001b[0m\u001b[1;33m\u001b[0m\u001b[0m\n",
      "\u001b[1;31mValueError\u001b[0m: 99999999 not in list"
     ]
    }
   ],
   "source": [
    "# 删除\n",
    "c = SortedList([1,2,3,4,5,6,7,222333])\n",
    "print(c)\n",
    "c.remove(222333)  # 移除特定值，不存在会报错\n",
    "print(c)\n",
    "c.discard(3)  # 移除特定值，不存在不会报错\n",
    "print(c)\n",
    "# 以下两点和list相同\n",
    "temp = c.pop(1)  # 移除下标对应元素，在这里就是移除第二小的数，返回移除的数\n",
    "print(temp,c)\n",
    "del c[1]  # 移除下标对应元素，无任何返回值\n",
    "print(c)\n",
    "c.discard(99999999)  # 不报错\n",
    "print(c)\n",
    "c.remove(99999999)  # 报错\n"
   ]
  },
  {
   "cell_type": "code",
   "execution_count": 24,
   "metadata": {},
   "outputs": [
    {
     "name": "stdout",
     "output_type": "stream",
     "text": [
      "[1, 1, 3, 3, 4, 5, 6, 46, 57, 74, 222333]\n",
      "2\n",
      "4\n",
      "2\n",
      "2\n"
     ]
    }
   ],
   "source": [
    "# 查找\n",
    "a = SortedList([1, 1, 3, 3, 4, 5, 6, 46, 57, 74, 222333])\n",
    "print(list(a))\n",
    "print(a.bisect_left(3))  #查找可以插入的位置（左侧）\n",
    "print(a.bisect_right(3)) #查找可以插入的位置（右侧）\n",
    "print(a.count(3))        #统计次数\n",
    "print(a.index(3,0,-1))   #查找范围内第一次出现的下标 \n",
    "# index: (value: Any, start: int = None, stop: int = None)\n",
    "\n"
   ]
  }
 ],
 "metadata": {
  "kernelspec": {
   "display_name": "Python 3.7.3 ('base')",
   "language": "python",
   "name": "python3"
  },
  "language_info": {
   "codemirror_mode": {
    "name": "ipython",
    "version": 3
   },
   "file_extension": ".py",
   "mimetype": "text/x-python",
   "name": "python",
   "nbconvert_exporter": "python",
   "pygments_lexer": "ipython3",
   "version": "3.7.3"
  },
  "orig_nbformat": 4,
  "vscode": {
   "interpreter": {
    "hash": "91bb753b057673435fb8d6f6a083e6c818364728098c7ae050ca3a25357dd754"
   }
  }
 },
 "nbformat": 4,
 "nbformat_minor": 2
}
