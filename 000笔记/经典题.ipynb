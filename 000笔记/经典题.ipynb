{
 "cells": [
  {
   "cell_type": "markdown",
   "metadata": {},
   "source": [
    "# 在这里放一些刷题过程中遇到的经典题"
   ]
  },
  {
   "cell_type": "code",
   "execution_count": null,
   "metadata": {},
   "outputs": [],
   "source": [
    "from typing import List\n",
    "from collections import Counter, defaultdict"
   ]
  },
  {
   "cell_type": "markdown",
   "metadata": {},
   "source": [
    "## LC 886. 可能的二分法\n",
    "https://leetcode.cn/problems/possible-bipartition/description/  \n",
    "给定一组 n 人（编号为 1, 2, ..., n）， 我们想把每个人分进任意大小的两组。每个人都可能不喜欢其他人，那么他们不应该属于同一组。\n",
    "\n",
    "给定整数 n 和数组 dislikes ，其中 dislikes[i] = [ai, bi] ，表示不允许将编号为 ai 和  bi的人归入同一组。当可以用这种方法将所有人分进两组时，返回 true；否则返回 false。"
   ]
  },
  {
   "cell_type": "markdown",
   "metadata": {},
   "source": [
    "### 解法1 染色法+DFS/BFS\n",
    "\n",
    "这题是经典的染色法模板题  \n",
    "假设第一组中的人是红色，第二组中的人为蓝色。我们依次遍历每一个人，如果当前的人没有被分组，就将其分到第一组（即染为红色），那么这个人不喜欢的人必须分到第二组中（染为蓝色）。然后任何新被分到第二组中的人，其不喜欢的人必须被分到第一组，依此类推。如果在染色的过程中存在冲突，就表示这个任务是不可能完成的，否则说明染色的过程有效（即存在合法的分组方案）。\n"
   ]
  },
  {
   "cell_type": "code",
   "execution_count": null,
   "metadata": {},
   "outputs": [],
   "source": []
  },
  {
   "cell_type": "markdown",
   "metadata": {},
   "source": [
    "## LC 902. 最大为 N 的数字组合\n",
    "https://leetcode.cn/problems/numbers-at-most-n-given-digit-set/description/  \n",
    "经典数位动态规划"
   ]
  },
  {
   "cell_type": "markdown",
   "metadata": {},
   "source": [
    "### 解法1 朴素dp\n",
    "无法AC  \n",
    "思路是维护一个res集合，每次将已有res和digits中的一个组成新数字并去重"
   ]
  },
  {
   "cell_type": "code",
   "execution_count": null,
   "metadata": {},
   "outputs": [],
   "source": [
    "class Solution:\n",
    "    def atMostNGivenDigitSet(self, digits: List[str], n: int) -> int:\n",
    "        # 朴素dp，没有用到digits非递减的条件，所以超时了\n",
    "        digits = list(map(int,digits))\n",
    "        # print(digits)\n",
    "        res = {0}\n",
    "        news = set()\n",
    "        for _ in range(len(str(n))):\n",
    "            for d in digits:\n",
    "                for r in res:\n",
    "                    new = r*10 + d\n",
    "                    if new<=n:\n",
    "                        news.add(new)\n",
    "\n",
    "                res.update(news)\n",
    "                news = set()\n",
    "        \n",
    "        print(res)\n",
    "\n",
    "        return len(res)-1"
   ]
  },
  {
   "cell_type": "markdown",
   "metadata": {},
   "source": [
    "### 解法2 数位dp\n",
    "https://leetcode.cn/problems/numbers-at-most-n-given-digit-set/solutions/1897671/zui-da-wei-n-de-shu-zi-zu-he-by-leetcode-f3yi/"
   ]
  },
  {
   "cell_type": "markdown",
   "metadata": {},
   "source": [
    "## LC 907. 子数组的最小值之和\n",
    "https://leetcode.cn/problems/sum-of-subarray-minimums/description/  \n",
    "给定一个整数数组 arr，找到 min(b) 的总和，其中 b 的范围为 arr 的每个（连续）子数组。  \n",
    "\n",
    "示例 1：  \n",
    "输入：arr = [3,1,2,4]  \n",
    "输出：17  \n",
    "解释：  \n",
    "子数组为 [3]，[1]，[2]，[4]，[3,1]，[1,2]，[2,4]，[3,1,2]，[1,2,4]，[3,1,2,4]。   \n",
    "最小值为 3，1，2，4，1，1，2，1，1，1，和为 17。\n"
   ]
  },
  {
   "cell_type": "markdown",
   "metadata": {},
   "source": [
    "### 解法1 单调栈\n"
   ]
  }
 ],
 "metadata": {
  "kernelspec": {
   "display_name": "Python 3.7.3 ('base')",
   "language": "python",
   "name": "python3"
  },
  "language_info": {
   "name": "python",
   "version": "3.7.3"
  },
  "orig_nbformat": 4,
  "vscode": {
   "interpreter": {
    "hash": "91bb753b057673435fb8d6f6a083e6c818364728098c7ae050ca3a25357dd754"
   }
  }
 },
 "nbformat": 4,
 "nbformat_minor": 2
}
