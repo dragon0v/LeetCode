{
 "cells": [
  {
   "cell_type": "markdown",
   "metadata": {},
   "source": [
    "# Effective Python  \n",
    "*\\*effective*  \n",
    "*\\*pythonic*  \n",
    "目标是令大家学会用Python来开发优秀的软件\n"
   ]
  },
  {
   "cell_type": "markdown",
   "metadata": {},
   "source": [
    "## 第一章 Think Pythonic"
   ]
  },
  {
   "cell_type": "markdown",
   "metadata": {},
   "source": [
    "### 1.确认自己的python版本  \n",
    "作者用的是py3.4，2014年发布的  \n",
    "此ipynb使用py3.8.8验证"
   ]
  },
  {
   "cell_type": "markdown",
   "metadata": {},
   "source": [
    "### 2.遵从PEP8风格指南  \n",
    "以下内容为书中介绍，可能当下有更新  \n",
    "#### 空白\n",
    "* 用空格表示缩进，而非tab\n",
    "* 一层缩进使用4个空格\n",
    "* 每行字符数不超过79\n",
    "* 多行表达式除了首行，应在其余各行再缩进4个空格\n",
    "* 函数和类之间用两个空行隔开\n",
    "* 同一个类的不同方法用一个空行隔开\n",
    "* 使用下标获取列表元素不要在下标两边加空格\n",
    "* 为变量赋值时，在=号左右各加一个空格\n",
    "#### 命名\n",
    "* 函数、变量及属性应用小写字母，各单词之间使用下划线连接\n",
    "* 受保护的实例属性，应用单下划线开头\n",
    "* 私有的实例属性，应用两个下划线开头\n",
    "* 类与异常，各单词采用首字母大写\n",
    "* 模块级别的常量，应用全大写，下划线连接\n",
    "* 类中的实例方法(instance method)，应把首个参数命名为self，以表示类自身\n",
    "* 类方法(class method)的首个参数应该命名为cls，以表示该类自身\n",
    "#### 表达式和语句\n",
    "* 采用内联形式的否定词，例如if a is not b，而不是if not a is b\n",
    "* 判断list为空采用if not li，非空采用if li\n",
    "* 不要写单行的if语句/for循环/while循环/except复合语句\n",
    "* import语句总放在文件开头\n",
    "* 引入模块时，使用绝对路径，例如from bar import foo，而非import foo，即使foo和当前文件在一个文件夹；或一定要相对引用的话，from.import foo\n",
    "* import语句按顺序分为三个部分：标准库模块，第三方模块，自用模块；各部分import应按字母顺序排列\n",
    "\n",
    "可以用pylint进行静态代码分析"
   ]
  },
  {
   "cell_type": "code",
   "execution_count": null,
   "metadata": {},
   "outputs": [],
   "source": [
    "# TODO PEP8示例代码"
   ]
  },
  {
   "cell_type": "markdown",
   "metadata": {},
   "source": [
    "### 3.了解bytes、str与Unicode的区别\n",
    "py3 有bytes和str，bytes只能表示ASCII字符，str的实例包含Unicode字符  \n",
    "py2 有str和unicode，str只能表示ASCII字符，unicode的实例包含Unicode字符  \n",
    "把unicode转换为二进制数据要使用encode方法，二进制数据转换为unicode要使用decode方法  \n",
    "编写python程序时把编解码放在界面的最外层做  \n",
    "程序的核心部分应使用unicode类型，且不对编码做任何假设\n"
   ]
  },
  {
   "cell_type": "code",
   "execution_count": null,
   "metadata": {},
   "outputs": [],
   "source": [
    "# "
   ]
  },
  {
   "cell_type": "markdown",
   "metadata": {},
   "source": [
    "### 4.用辅助函数取代复杂的表达式\n",
    "将复杂的表达式放进辅助函数，尤其是需要反复使用类似逻辑时  \n",
    "不要写过于复杂难于理解的单行表达式"
   ]
  },
  {
   "cell_type": "code",
   "execution_count": null,
   "metadata": {},
   "outputs": [],
   "source": []
  },
  {
   "cell_type": "markdown",
   "metadata": {},
   "source": [
    "### 5.了解切割序列的方法\n",
    "a[start: end: stride]，含start不含end，返回的是新列表  \n",
    "start为0，end为len(a)时应省略  \n",
    "str支持索引和切片操作，但是不支持赋值  \n",
    "\\-  *TypeError: 'str' object does not support item assignment*\n"
   ]
  },
  {
   "cell_type": "code",
   "execution_count": null,
   "metadata": {},
   "outputs": [],
   "source": [
    "# 基本操作\n",
    "a = 'qwerty'\n",
    "b = [1,'a',a, True]\n",
    "print(a[1:4])\n",
    "print(b[:-1])\n",
    "print(a[-4:-1])\n",
    "del a, b"
   ]
  },
  {
   "cell_type": "code",
   "execution_count": 18,
   "metadata": {},
   "outputs": [
    {
     "name": "stdout",
     "output_type": "stream",
     "text": [
      "456\n",
      "asdafadsiehfiuasehrg\n",
      "asdafadsiehfiuasehrglekresgoip;hj\n"
     ]
    }
   ],
   "source": [
    "# 切割列表时即使start或end越界也可以，而访问单个元素越界则会报错\n",
    "a = '123456'\n",
    "print(a[3:10])\n",
    "# 利用这一特性可以限定输入的最大长度\n",
    "user_input = 'asdafadsiehf'\n",
    "user_input = 'asdafadsiehfiuasehrglekresgoip;hj'\n",
    "print(user_input[:20])\n",
    "print(user_input[-50:])\n",
    "del a, user_input"
   ]
  },
  {
   "cell_type": "code",
   "execution_count": 51,
   "metadata": {},
   "outputs": [
    {
     "name": "stdout",
     "output_type": "stream",
     "text": [
      "[1, 2, 3, 4, 5, 6, 7] [5, 6, 7] [1, 2, 3, 4, 5, 6, 7]\n",
      "2225356152064 2225351812096 2225356150400\n",
      "2225351813360 2225351813360\n"
     ]
    }
   ],
   "source": [
    "# 使用负变量作为start索引有时会出现奇怪的问题\n",
    "# 例如a[-n:]本意为取最后n个字符，但当n=0时成了原列表的拷贝\n",
    "a = [1,2,3,4,5,6,7]\n",
    "n = 3\n",
    "b = a[-n:]\n",
    "n = 0\n",
    "c = a[-n:]\n",
    "print(a,b,c)\n",
    "print(id(a),id(b),id(c))\n",
    "assert a==c and a is not c # is等同于比id, ==比较值\n",
    "# 这里str和列表就有区别，进行拷贝操作时id不变\n",
    "s = 'qwerty'\n",
    "s2 = s[:]\n",
    "print(id(s),id(s2))\n",
    "del a,b,c,s,s2"
   ]
  },
  {
   "cell_type": "code",
   "execution_count": 46,
   "metadata": {},
   "outputs": [
    {
     "name": "stdout",
     "output_type": "stream",
     "text": [
      "[8, 9, 0, 4, 5]\n",
      "[8, 9, 0, 4, 5]\n",
      "['a', 's', 'd', 'a', 's', 'd', 4, 5]\n",
      "['a', 's', 'd', 'a', 3, 5]\n"
     ]
    }
   ],
   "source": [
    "# 可以使用切片替换原列表部分内容，str不支持\n",
    "a = [1,2,3,4,5]\n",
    "a[:3] = [8,9,0]\n",
    "print(a)\n",
    "a[:3] = (8,9,0)\n",
    "print(a)\n",
    "# 长度可以不对应\n",
    "a[:3] = \"asdasd\"\n",
    "print(a)\n",
    "a[-4:-1] = [3] # 必须是iterable，=3不行\n",
    "print(a)\n",
    "del a"
   ]
  },
  {
   "cell_type": "markdown",
   "metadata": {},
   "source": [
    "### 6.单次切片操作不要同时指定start，end和stride\n",
    "（作者观点如此，我觉得一般情况可以用）  \n",
    "作者建议拆成两条操作，可能加强可读性但会多复制一遍数组造成内存浪费  \n",
    "\n"
   ]
  },
  {
   "cell_type": "code",
   "execution_count": 52,
   "metadata": {},
   "outputs": [
    {
     "name": "stdout",
     "output_type": "stream",
     "text": [
      "qwerty ytrewq\n",
      "哈喽 喽哈\n"
     ]
    }
   ],
   "source": [
    "# 使用stride可能会出现不符合预期的情况\n",
    "a = 'qwerty'\n",
    "b = a[::-1]\n",
    "print(a,b)\n",
    "a = '哈喽'\n",
    "b = a[::-1] # 书中这样会报错，但是可见在更高的python版本中这个问题已经被解决了\n",
    "print(a,b)\n",
    "del a,b"
   ]
  },
  {
   "cell_type": "code",
   "execution_count": null,
   "metadata": {},
   "outputs": [],
   "source": [
    "from itertools import islice\n",
    "# TODO islice的start，end，stride只能是正数，但是除此之外islice和普通列表操作有何区别？"
   ]
  },
  {
   "cell_type": "markdown",
   "metadata": {},
   "source": [
    "### 7.用列表来取代map和filter\n",
    "list comprehension列表推导  \n",
    "作者观点，但我觉得看习惯了也好理解\n",
    "\n"
   ]
  },
  {
   "cell_type": "code",
   "execution_count": 53,
   "metadata": {},
   "outputs": [
    {
     "name": "stdout",
     "output_type": "stream",
     "text": [
      "[1, 4, 9, 16, 25] [1, 4, 9, 16, 25]\n",
      "[1, 3, 5] [1, 3, 5]\n"
     ]
    }
   ],
   "source": [
    "a = [1,2,3,4,5]\n",
    "# 不推荐\n",
    "b = list(map(lambda x:x*x, a))\n",
    "d = list(filter(lambda x:x%2,a))\n",
    "# 推荐\n",
    "c = [x*x for x in a]\n",
    "e = [x for x in a if x%2]\n",
    "print(b,c)\n",
    "print(d,e)\n",
    "del a,b,c,d,e\n",
    "# 一个参数时都挺清楚的"
   ]
  },
  {
   "cell_type": "code",
   "execution_count": 56,
   "metadata": {},
   "outputs": [
    {
     "name": "stdout",
     "output_type": "stream",
     "text": [
      "[1, 9, 25] [1, 9, 25]\n"
     ]
    }
   ],
   "source": [
    "# 奇数位的平方\n",
    "a = [1,2,3,4,5]\n",
    "b = list(map(lambda x:x**2,filter(lambda x:x%2,a)))\n",
    "c = [x**2 for x in a if x%2]\n",
    "print(b,c)\n",
    "del a,b,c"
   ]
  },
  {
   "cell_type": "markdown",
   "metadata": {},
   "source": [
    "### 8.不要用含有两个以上表达式的列表推导\n",
    "建议改成普通的多重循环，必要时采用辅助函数"
   ]
  },
  {
   "cell_type": "code",
   "execution_count": 65,
   "metadata": {},
   "outputs": [
    {
     "name": "stdout",
     "output_type": "stream",
     "text": [
      "[1, 2, 3, 4, 5, 6, 7, 8, 9]\n",
      "['a', 's', 'd', 'e', 'r', 't', 'c', 'v', 'b', 's', 'd', 'f', 'r', 't', 'y']\n",
      "['a', 's', 'd', 'e', 'r', 't', 'c', 'v', 'b', 's', 'd', 'f', 'r', 't', 'y']\n"
     ]
    }
   ],
   "source": [
    "# 两个表达式，已经较难理解了\n",
    "mat = [[1,2,3],[4,5,6],[7,8,9]]\n",
    "flatten = [x for row in mat for x in row]\n",
    "print(flatten)\n",
    "# 不推荐\n",
    "mat = [['asd','ert','cvb'],['sdf','rty'],]\n",
    "flat = [c for str_lists in mat for str1 in str_lists for c in str1 ]\n",
    "print(flat)\n",
    "# 推荐使用循环\n",
    "flat2 = []\n",
    "for str_lists in mat:\n",
    "    for str1 in str_lists:\n",
    "        for c in str1:\n",
    "            flat2.append(c)\n",
    "print(flat2)\n",
    "del mat, flatten, flat, flat2, c, str1, str_lists"
   ]
  },
  {
   "cell_type": "code",
   "execution_count": null,
   "metadata": {},
   "outputs": [],
   "source": [
    "# 不推荐\n",
    "mat = [[1,2,3],[4,5,6],[7,8,9]]\n",
    "filtered = [[x for x in row if x%2] \n",
    "            for row in mat if sum(row)>=10]"
   ]
  },
  {
   "cell_type": "markdown",
   "metadata": {},
   "source": [
    "### 9.用生成器改写数据量较大的列表\n",
    "列表推导可能会消耗大量内存，建议处理大规模数据使用生成器  \n",
    "缺点是生成器有状态，无法反复使用"
   ]
  },
  {
   "cell_type": "code",
   "execution_count": 78,
   "metadata": {},
   "outputs": [
    {
     "name": "stdout",
     "output_type": "stream",
     "text": [
      "144 1240 [24, 40, 1]\n",
      "<class 'generator'> 112\n",
      "24 40 1\n"
     ]
    }
   ],
   "source": [
    "from sys import getsizeof\n",
    "# 不推荐，文件大的时候会占用很大的内存\n",
    "value = [len(x) for x in open('functools学习笔记.py',encoding='utf-8')]\n",
    "print(len(value),getsizeof(value),value[:3])\n",
    "# 推荐：生成器表达式()\n",
    "value = (len(x) for x in open('functools学习笔记.py',encoding='utf-8'))\n",
    "print(type(value),getsizeof(value)) # 生成器没有len()\n",
    "print(next(value),next(value),next(value))\n",
    "del value\n"
   ]
  },
  {
   "cell_type": "markdown",
   "metadata": {},
   "source": [
    "### 10.尽量用enumerate替代range\n"
   ]
  },
  {
   "cell_type": "code",
   "execution_count": 83,
   "metadata": {},
   "outputs": [
    {
     "name": "stdout",
     "output_type": "stream",
     "text": [
      "index:0, value:q index:1, value:w index:2, value:e index:3, value:r index:4, value:t index:5, value:y \n",
      "index:0, value:q index:1, value:w index:2, value:e index:3, value:r index:4, value:t index:5, value:y "
     ]
    }
   ],
   "source": [
    "s = 'qwerty'\n",
    "# 不推荐\n",
    "for i in range(len(s)):\n",
    "    print('index:%d, value:%c'%(i,s[i]), end=' ')\n",
    "print()\n",
    "# 推荐\n",
    "for i,v in enumerate(s):\n",
    "    print('index:%d, value:%c'%(i,v), end=' ')\n",
    "del s,i,v\n"
   ]
  },
  {
   "cell_type": "markdown",
   "metadata": {},
   "source": [
    "### *11.用zip函数同时遍历两个迭代器\n",
    "py2的zip返回元组，可能消耗大量内存，py2应使用itertools的izip函数  \n",
    "py3返回元组生成器\n",
    "zip生成器的生成次数为最短的迭代器的长度"
   ]
  },
  {
   "cell_type": "code",
   "execution_count": null,
   "metadata": {},
   "outputs": [],
   "source": [
    "students = ['Alice','Bob','Dick']\n",
    "scores = [93,88,78]\n",
    "# 不推荐，使用下标访问会比较杂乱，甚至长度不相等可能报错\n",
    "for i in range(len(students)):\n",
    "    print('%s is %d'%(students[i],scores[i]))\n",
    "# 推荐使用zip平行访问两个数组\n",
    "for student, score in zip(students, scores):\n",
    "    print('%s is %d'%(student,score))\n",
    "del students, scores, student, score, i\n"
   ]
  },
  {
   "cell_type": "code",
   "execution_count": 92,
   "metadata": {},
   "outputs": [
    {
     "name": "stdout",
     "output_type": "stream",
     "text": [
      "Alice is 93\n",
      "Bob is 88\n",
      "Dick is 78\n",
      "Pussy is 0\n"
     ]
    }
   ],
   "source": [
    "# 如需按最长的遍历，须使用itertools中的zip_longest\n",
    "from itertools import zip_longest\n",
    "students = ['Alice','Bob','Dick','Pussy']\n",
    "scores = [93,88,78]\n",
    "for student, score in zip_longest(students, scores, fillvalue=0): # 不等长时不给fillvalue会报错\n",
    "    print('%s is %d'%(student,score))\n",
    "del students, scores, student, score"
   ]
  },
  {
   "cell_type": "markdown",
   "metadata": {},
   "source": [
    "### 12.不要在for和while循环后面写else块\n",
    "（我都不知道还能这样）  \n",
    "本来是python的一种特殊语法，当循环没有被break或循环初始条件就是False，会执行else块  \n",
    "不推荐是因为读起来很费解  \n"
   ]
  },
  {
   "cell_type": "code",
   "execution_count": 2,
   "metadata": {},
   "outputs": [
    {
     "name": "stdout",
     "output_type": "stream",
     "text": [
      "0\n",
      "1\n",
      "0\n",
      "1\n",
      "2\n",
      "loop2 break at 2\n",
      "xxx\n"
     ]
    }
   ],
   "source": [
    "# 循环存在break（提前终止），else不执行\n",
    "for i in range(3):\n",
    "    print(i)\n",
    "    if i==1:\n",
    "        break\n",
    "else:\n",
    "    print('loop1 break at',i)\n",
    "# 循环不存在break（正常结束），执行else\n",
    "for i in range(3):\n",
    "    print(i)\n",
    "else:\n",
    "    print('loop2 break at',i)\n",
    "del i\n",
    "# 初始条件False，执行else\n",
    "while False:\n",
    "    print(1)\n",
    "else:\n",
    "    print('xxx')"
   ]
  },
  {
   "cell_type": "markdown",
   "metadata": {},
   "source": [
    "### 13.合理利用try/except/else/finally结构中的每个代码块\n",
    "\n"
   ]
  },
  {
   "cell_type": "code",
   "execution_count": 4,
   "metadata": {},
   "outputs": [
    {
     "name": "stdout",
     "output_type": "stream",
     "text": [
      "running finally\n"
     ]
    },
    {
     "ename": "UnicodeDecodeError",
     "evalue": "'gbk' codec can't decode byte 0xae in position 48: illegal multibyte sequence",
     "output_type": "error",
     "traceback": [
      "\u001b[1;31m---------------------------------------------------------------------------\u001b[0m",
      "\u001b[1;31mUnicodeDecodeError\u001b[0m                        Traceback (most recent call last)",
      "\u001b[1;32m<ipython-input-4-cba38ec6aa6c>\u001b[0m in \u001b[0;36m<module>\u001b[1;34m\u001b[0m\n\u001b[0;32m      4\u001b[0m                               \u001b[1;31m# 此时会直接报错，不会进行IO操作，也不会进入到try\u001b[0m\u001b[1;33m\u001b[0m\u001b[1;33m\u001b[0m\u001b[1;33m\u001b[0m\u001b[0m\n\u001b[0;32m      5\u001b[0m \u001b[1;32mtry\u001b[0m\u001b[1;33m:\u001b[0m\u001b[1;33m\u001b[0m\u001b[1;33m\u001b[0m\u001b[0m\n\u001b[1;32m----> 6\u001b[1;33m     \u001b[0mdata\u001b[0m \u001b[1;33m=\u001b[0m \u001b[0mhandle\u001b[0m\u001b[1;33m.\u001b[0m\u001b[0mread\u001b[0m\u001b[1;33m(\u001b[0m\u001b[1;33m)\u001b[0m \u001b[1;31m# May raise UnicodeDecodeError\u001b[0m\u001b[1;33m\u001b[0m\u001b[1;33m\u001b[0m\u001b[0m\n\u001b[0m\u001b[0;32m      7\u001b[0m     \u001b[1;31m# Exception will be passed to caller.\u001b[0m\u001b[1;33m\u001b[0m\u001b[1;33m\u001b[0m\u001b[1;33m\u001b[0m\u001b[0m\n\u001b[0;32m      8\u001b[0m \u001b[1;32mfinally\u001b[0m\u001b[1;33m:\u001b[0m\u001b[1;33m\u001b[0m\u001b[1;33m\u001b[0m\u001b[0m\n",
      "\u001b[1;31mUnicodeDecodeError\u001b[0m: 'gbk' codec can't decode byte 0xae in position 48: illegal multibyte sequence"
     ]
    }
   ],
   "source": [
    "# 既要讲异常向上传播，又要在异常时执行清理工作\n",
    "# 可以使用try/finally结构\n",
    "handle = open('coroutine.py') # May raise IOError，\n",
    "                              # 此时会直接报错，不会进行IO操作，也不会进入到try\n",
    "try:\n",
    "    data = handle.read() # May raise UnicodeDecodeError\n",
    "    # Exception will be passed to caller.\n",
    "finally:\n",
    "    print('running finally')\n",
    "    handle.close() # Always run after try.\n",
    "del data, handle"
   ]
  },
  {
   "cell_type": "code",
   "execution_count": null,
   "metadata": {},
   "outputs": [],
   "source": [
    "# else块会在try块没有发生异常时执行，会使异常传播行为更清晰\n",
    "# 可以使用try/except/else结构，必须有except\n",
    "# else块缩减了try块的代码量，应把没有异常发生时执行的语句放在else块中\n",
    "import json\n",
    "def read_json_key(data,key):\n",
    "    try:\n",
    "        res_dict = json.loads(data) # May raise ValueError\n",
    "    except ValueError as e:\n",
    "        raise KeyError from e\n",
    "    else:\n",
    "        return res_dict[key] # May raise KeyError\n",
    "# 这样做的好处的当异常发生时可以清楚确定是由于ValueError造成的异常\n",
    "# try结构是为了捕捉ValueError的\n",
    "del read_json_key"
   ]
  },
  {
   "cell_type": "code",
   "execution_count": null,
   "metadata": {},
   "outputs": [],
   "source": [
    "# 混合使用try/except/else/finally结构\n",
    "# finally永远会执行，且最后执行\n",
    "# else会在没有异常发生时在finally前执行"
   ]
  },
  {
   "cell_type": "markdown",
   "metadata": {},
   "source": [
    "## 第二章 函数"
   ]
  },
  {
   "cell_type": "markdown",
   "metadata": {},
   "source": [
    "### 14.尽量用异常来表示特殊情况，不要返回None\n"
   ]
  },
  {
   "cell_type": "markdown",
   "metadata": {},
   "source": [
    "### 15.闭包相关\n"
   ]
  },
  {
   "cell_type": "code",
   "execution_count": 14,
   "metadata": {},
   "outputs": [
    {
     "name": "stdout",
     "output_type": "stream",
     "text": [
      "False\n",
      "[6, 6, 8, 45, 2, 4, 5, 7, 7, 34]\n"
     ]
    }
   ],
   "source": [
    "# 闭包内可以访问外部变量\n",
    "def a(flag=False):\n",
    "    def b():\n",
    "        print(flag)\n",
    "    b()\n",
    "a()\n",
    "# *重要性排序\n",
    "def sort_priority(values, group):\n",
    "    # python对元组排序时先比较第一个元素，若相等再比较第二个元素，直到不等或遍历完\n",
    "    def helper(x):\n",
    "        if x in group:\n",
    "            return (0,x)\n",
    "        return (1,x)\n",
    "    values.sort(key=helper)\n",
    "numbers = [2,4,6,7,6,8,34,5,45,7]\n",
    "sort_priority(numbers,{6,45,8})\n",
    "print(numbers)\n",
    "del a,sort_priority,numbers"
   ]
  },
  {
   "cell_type": "code",
   "execution_count": 15,
   "metadata": {},
   "outputs": [
    {
     "name": "stdout",
     "output_type": "stream",
     "text": [
      "False\n",
      "[6, 6, 8, 45, 2, 4, 5, 7, 7, 34]\n"
     ]
    }
   ],
   "source": [
    "# 无法获取闭包内的数据\n",
    "# 增加一个found变量表示values中存在group内的元素\n",
    "def sort_priority(values, group):\n",
    "    found = False\n",
    "    def helper(x):\n",
    "        if x in group:\n",
    "            found = True # 此处修改的found作用域在helper内，\n",
    "                         # 因此sort_priority返回的found永远为False\n",
    "            return (0,x)\n",
    "        return (1,x)\n",
    "    values.sort(key=helper)\n",
    "    return found\n",
    "numbers = [2,4,6,7,6,8,34,5,45,7]\n",
    "found = sort_priority(numbers,{6,45,8})\n",
    "print(found)\n",
    "print(numbers)\n",
    "del sort_priority,numbers,found"
   ]
  },
  {
   "cell_type": "code",
   "execution_count": 16,
   "metadata": {},
   "outputs": [
    {
     "name": "stdout",
     "output_type": "stream",
     "text": [
      "True\n",
      "[6, 6, 8, 45, 2, 4, 5, 7, 7, 34]\n"
     ]
    }
   ],
   "source": [
    "# nonlocal获取闭包内数据，仅py3\n",
    "# 增加一个found变量表示values中存在group内的元素\n",
    "def sort_priority(values, group):\n",
    "    found = False\n",
    "    def helper(x):\n",
    "        if x in group:\n",
    "            nonlocal found # nonlocal表示应在上一级寻找该变量，nonlocal无法作用到模块级别\n",
    "            found = True\n",
    "            return (0,x)\n",
    "        return (1,x)\n",
    "    values.sort(key=helper)\n",
    "    return found\n",
    "numbers = [2,4,6,7,6,8,34,5,45,7]\n",
    "found = sort_priority(numbers,{6,45,8})\n",
    "print(found)\n",
    "print(numbers)\n",
    "del sort_priority,numbers,found\n",
    "# 不要滥用nonlocal和global\n",
    "# 复杂情况使用辅助类，使用self调用"
   ]
  },
  {
   "cell_type": "markdown",
   "metadata": {},
   "source": [
    "### *16.使用生成器改写直接返回列表的函数\n",
    "生成器是使用yield表达式的函数，调用生成器函数时不会真的运行，而是返回迭代器  \n",
    "使用生成器，简化代码量并减少内存使用，但是生成器有状态不能反复调用\n"
   ]
  },
  {
   "cell_type": "code",
   "execution_count": 28,
   "metadata": {},
   "outputs": [
    {
     "name": "stdout",
     "output_type": "stream",
     "text": [
      "['from functools import *\\n', '# functools 模块可以说主要是为函数式编程而设计，用于增强函数功能。\\n', '\\n'] 1240\n",
      "['from functools import *\\n', '# functools 模块可以说主要是为函数式编程而设计，用于增强函数功能。\\n', '\\n'] <class 'generator'> 112\n"
     ]
    }
   ],
   "source": [
    "from sys import getsizeof\n",
    "# 不使用生成器\n",
    "def read_py():\n",
    "    with open('functools学习笔记.py',encoding='utf-8') as f:\n",
    "        res = []\n",
    "        for line in f:\n",
    "            res.append(line)\n",
    "    return res\n",
    "print(read_py()[:3],getsizeof(read_py()))\n",
    "# 使用生成器，简化代码量并减少内存使用，但是生成器有状态不能反复调用\n",
    "def read_py2():\n",
    "    with open('functools学习笔记.py',encoding='utf-8') as f:\n",
    "        for line in f:\n",
    "            yield line\n",
    "g = read_py2()\n",
    "print(list(g)[:3],type(g),getsizeof(g))\n",
    "del read_py,read_py2,g\n"
   ]
  },
  {
   "cell_type": "markdown",
   "metadata": {},
   "source": [
    "### TODO17.在参数上迭代时，要多加小心\n",
    "提到了生成器，用尽的生成器异常抛出问题，迭代器协议，\\_\\_iter\\_\\_  \n",
    "TODO 感觉较难"
   ]
  },
  {
   "cell_type": "markdown",
   "metadata": {},
   "source": [
    "### 18.用数量可变的位置参数\n",
    "positional arguments, *args  \n"
   ]
  },
  {
   "cell_type": "markdown",
   "metadata": {},
   "source": [
    "### 19.用关键字参数来表达可选的行为"
   ]
  },
  {
   "cell_type": "markdown",
   "metadata": {},
   "source": [
    "### 20.用None和文档字符串来描述有动态默认值的参数"
   ]
  },
  {
   "cell_type": "markdown",
   "metadata": {},
   "source": [
    "### 21.用只能以关键字形式指定的参数来确保代码明晰"
   ]
  },
  {
   "cell_type": "markdown",
   "metadata": {},
   "source": [
    "## 第三章 类与继承\n",
    "继承 多态 封装  \n",
    "灵活使用类与继承可以随时改进程序并扩充其功能  \n",
    "善用类与基础可以写出易于维护的代码"
   ]
  },
  {
   "cell_type": "markdown",
   "metadata": {},
   "source": [
    "### 22.尽量用辅助类来维护程序的状态\n",
    "TODO还没看"
   ]
  },
  {
   "cell_type": "markdown",
   "metadata": {},
   "source": [
    "### 23.简单接口应接受函数，而不是类的实例\n",
    "python的许多内置API允许传入函数，以定制其行为  \n",
    "例如list类的sort方法，允许传入key，指定排序顺序  \n",
    "简单情况用lambda，复杂情况定义一个函数（称为挂钩函数）  \n",
    "定义一个辅助类语法上也是可行的，但是会增加理解难度  \n"
   ]
  },
  {
   "cell_type": "code",
   "execution_count": 40,
   "metadata": {},
   "outputs": [
    {
     "name": "stdout",
     "output_type": "stream",
     "text": [
      "0\n",
      "<class '__main__.BetterCountMissing'> True\n",
      "defaultdict(<__main__.BetterCountMissing object at 0x00000209392F8C40>, {'green': 12, 'red': 3, 'blue': 5, 'yellow': 7, 'orange': 19})\n",
      "3\n"
     ]
    }
   ],
   "source": [
    "# 在类中定义__call__方法可以使相关对象能像函数那样得到调用\n",
    "class BetterCountMissing():\n",
    "    def __init__(self):\n",
    "        self.added = 0\n",
    "    \n",
    "    def __call__(self):\n",
    "        self.added += 1\n",
    "        return 0\n",
    "\n",
    "counter = BetterCountMissing()\n",
    "print(counter())\n",
    "print(type(counter),callable(counter))\n",
    "\n",
    "# 将BetterCountMissing实例用于defaultdict的默认值挂钩，\n",
    "# 以便记录新添加了多少个原来没有的键\n",
    "current = {'green':12,'red':3}\n",
    "adds = [('blue',5),('yellow',7),('orange',19)]\n",
    "from collections import defaultdict\n",
    "counter = BetterCountMissing()\n",
    "result = defaultdict(counter,current) # 这里依赖counter的__call__方法，\n",
    "                                      # 才能将类的实例作为挂钩函数传入\n",
    "for key,value in adds:\n",
    "    result[key] += value\n",
    "print(result)\n",
    "print(counter.added)\n",
    "del BetterCountMissing, counter, current,result,adds,key,value"
   ]
  },
  {
   "cell_type": "markdown",
   "metadata": {},
   "source": [
    "### *24.以@classmethod形式的多态来通用地构建对象\n",
    "类也支持多态，继承体系中的多个类都能以各自独有的方式来实现某个方法，而保持相同的接口或继承自相同的抽象类。  \n",
    "TODO 感觉挺重要\n",
    " \n",
    "\n"
   ]
  },
  {
   "cell_type": "markdown",
   "metadata": {},
   "source": [
    "### 25.用super初始化父类 \n",
    "总是应该使用内置的super函数来初始化父类"
   ]
  },
  {
   "cell_type": "code",
   "execution_count": 51,
   "metadata": {},
   "outputs": [
    {
     "name": "stdout",
     "output_type": "stream",
     "text": [
      "9\n",
      "99\n"
     ]
    }
   ],
   "source": [
    "class Parent():\n",
    "    def __init__(self,val):\n",
    "        self.val = val\n",
    "\n",
    "# 推荐做法\n",
    "# super函数的调用顺序算法可参考mro.py（method resolution order）\n",
    "class Child1(Parent):\n",
    "    def __init__(self):\n",
    "        super().__init__(9)\n",
    "# 不推荐做法，如果涉及多重继承可能出问题（调用顺序不固定）\n",
    "class Child2(Parent):\n",
    "    def __init__(self):\n",
    "        Parent.__init__(self,99)\n",
    "\n",
    "c1 = Child1()\n",
    "print(c1.val)\n",
    "c2 = Child2()\n",
    "print(c2.val)\n",
    "\n",
    "del Parent,Child1,Child2,c1,c2"
   ]
  },
  {
   "cell_type": "markdown",
   "metadata": {},
   "source": [
    "### 26.只在使用Mix-in组件制作工具类时才使用多重继承\n",
    "mixin类"
   ]
  },
  {
   "cell_type": "markdown",
   "metadata": {},
   "source": [
    "### 27.多用public属性，少用private属性\n",
    "python不严格保证private字段的私密性，所以用了也没啥大用"
   ]
  },
  {
   "cell_type": "code",
   "execution_count": 64,
   "metadata": {},
   "outputs": [
    {
     "name": "stdout",
     "output_type": "stream",
     "text": [
      "4\n",
      "5\n",
      "4\n",
      "'Test' object has no attribute '__private_field'\n",
      "5\n",
      "{'public_field': 4, '_protected_field': 99, '_Test__private_field': 5}\n"
     ]
    }
   ],
   "source": [
    "class Test():\n",
    "    def __init__(self):\n",
    "        self.public_field = 4\n",
    "        self._protected_field = 99 # 顺便说一些单下划线开头的，表示受保护，\n",
    "                                   # 在本类外使用此变量需小心\n",
    "        self.__private_field = 5 # 必须以两个下划线开头，且结尾最多一个下划线\n",
    "    def show(self):\n",
    "        print(self.public_field)\n",
    "        print(self.__private_field)\n",
    "\n",
    "t = Test()\n",
    "t.show() # 内部可访问public和private\n",
    "print(t.public_field) # 外部可访问public\n",
    "try:\n",
    "    print(t.__private_field) # 外部不可*直接*访问private\n",
    "except Exception as e:\n",
    "    print(e)\n",
    "print(t._Test__private_field) # 外部可以*间接*访问private\n",
    "print(t.__dict__)\n",
    "del Test,t"
   ]
  },
  {
   "cell_type": "markdown",
   "metadata": {},
   "source": [
    "### 28.继承collections.abc以实现自定义的容器类型\n",
    "大部分的python编程工作都是在定义类  \n",
    "如果定制的子类比较简单，可以从python的容器类型中继承，如list，dict  \n",
    "collections.abc为复杂的类定义工作提供了模板，该模块定义了一系列抽象基类，他们提供了每一种容器类型所具备的常用方法  \n"
   ]
  },
  {
   "cell_type": "markdown",
   "metadata": {},
   "source": [
    "## 第四章 元类及属性\n",
    "元类metaclass，又称为描述类"
   ]
  },
  {
   "cell_type": "markdown",
   "metadata": {},
   "source": [
    "### *29.用纯属性代替get和set方法\n",
    "即不需要像java等语言定义getter和setter  \n",
    "如果想要在设置属性时实现特殊行为，可以改用@property修饰器和setter方法来做"
   ]
  },
  {
   "cell_type": "code",
   "execution_count": 77,
   "metadata": {},
   "outputs": [
    {
     "name": "stdout",
     "output_type": "stream",
     "text": [
      "setting voltage to 0\n",
      "before:    0 amps\n",
      "setting voltage to 50\n",
      "after : 0.05 amps\n",
      "{'_ohms': 1000.0, 'voltage': 0, 'current': 0}\n",
      "ValueError('ohms should be greater than 0')\n",
      "AttributeError('Not allowed')\n"
     ]
    }
   ],
   "source": [
    "class Resistor():\n",
    "    def __init__(self,ohms):\n",
    "        self.ohms = ohms\n",
    "        self.voltage = 0\n",
    "        self.current = 0\n",
    "\n",
    "r1 = Resistor(10e3)\n",
    "# 直接修改纯属性\n",
    "r1.ohms = 5e3\n",
    "r1.ohms += 10e3\n",
    "\n",
    "# 通过@property和setter实现修改voltage自动修改current\n",
    "class VotageResistance(Resistor):\n",
    "    def __init__(self,ohms):\n",
    "        super().__init__(ohms)\n",
    "        self._voltage = 0\n",
    "\n",
    "    @property # 在这里类似getter\n",
    "    def voltage(self):\n",
    "        return self._voltage\n",
    "\n",
    "    @voltage.setter\n",
    "    def voltage(self,voltage):\n",
    "        print('setting voltage to',voltage)\n",
    "        self._voltage = voltage\n",
    "        self.current = self._voltage/self.ohms\n",
    "\n",
    "r2 = VotageResistance(1e3)\n",
    "print('before:%5r amps' % r2.current)\n",
    "r2.voltage = 50\n",
    "print('after :%5r amps' % r2.current)\n",
    "    \n",
    "# 在setter中做类型验证及数值验证\n",
    "class BoundedResistance(Resistor):\n",
    "    def __init__(self,ohms):\n",
    "        super().__init__(ohms)\n",
    "        print(self.__dict__) # _ohms表示是父类的属性\n",
    "        \n",
    "    @property\n",
    "    def ohms(self):\n",
    "        return self._ohms \n",
    "\n",
    "    @ohms.setter\n",
    "    def ohms(self,ohms):\n",
    "        if ohms<=0:\n",
    "            # raise ValueError('ohms should be greater than 0')\n",
    "            print(\"ValueError('ohms should be greater than 0')\")\n",
    "        self._ohms = ohms\n",
    "\n",
    "r3 = BoundedResistance(1e3)\n",
    "r3.ohms = -1e3\n",
    "\n",
    "# 使用@property防止父类的属性遭到修改\n",
    "class FixedResistance(Resistor):\n",
    "    def __init__(self,ohms):\n",
    "        super().__init__(ohms)\n",
    "        \n",
    "    @property\n",
    "    def ohms(self):\n",
    "        return self._ohms \n",
    "\n",
    "    @ohms.setter\n",
    "    def ohms(self,ohms):\n",
    "        if hasattr(self,'_ohms'):\n",
    "            # raise AttributeError('Not allowed')\n",
    "            print(\"AttributeError('Not allowed')\")\n",
    "        self._ohms = ohms\n",
    "\n",
    "r4 = FixedResistance(1e3)\n",
    "r4.ohms += 1e3\n",
    "\n",
    "del r1,r2,r3,r4,Resistor,VotageResistance,BoundedResistance,FixedResistance"
   ]
  },
  {
   "cell_type": "markdown",
   "metadata": {},
   "source": [
    "### 30.考虑用@property代替属性重构\n",
    "@property可以为现有实例属性添加功能，相当于打补丁，完全不用更改已有代码块 (on-the-fly calculation)  \n",
    "但是不宜使用过多，过多使用应考虑重写"
   ]
  },
  {
   "cell_type": "code",
   "execution_count": 82,
   "metadata": {},
   "outputs": [
    {
     "name": "stdout",
     "output_type": "stream",
     "text": [
      "Bucket(quota=100)\n",
      "deduct 99 quota\n",
      "Bucket(quota=1)\n"
     ]
    }
   ],
   "source": [
    "# 示例：用纯python对象实现带有配额的漏桶leaky bucket\n",
    "# leaky bucket: 底部有漏洞的桶，桶内余量为quota；加水前如果桶内的水已过期，则需要先清空桶\n",
    "# 原版\n",
    "from datetime import timedelta\n",
    "from datetime import datetime\n",
    "class Bucket():\n",
    "    def __init__(self,period):\n",
    "       self.period_delta = timedelta(seconds=period)\n",
    "       self.reset_time = datetime.now()\n",
    "       self.quota = 0\n",
    "    \n",
    "    def __repr__(self):\n",
    "        return 'Bucket(quota=%d)'%self.quota\n",
    "\n",
    "# 向桶中加水，水过期了就要先清空再加水\n",
    "def fill(bucket:Bucket,amount):\n",
    "    now = datetime.now()\n",
    "    if now-bucket.reset_time > bucket.period_delta:\n",
    "        bucket.quota = 0\n",
    "        bucket.reset_time = now\n",
    "    bucket.quota += amount\n",
    "\n",
    "# 从桶中取水，需要水没过期且能满足需求\n",
    "def deduct(bucket:Bucket,amount):\n",
    "    now = datetime.now()\n",
    "    if now-bucket.reset_time > bucket.period_delta:\n",
    "        return False\n",
    "    if bucket.quota < amount:\n",
    "        return False\n",
    "    bucket.quota -= amount\n",
    "    return True\n",
    "\n",
    "bucket = Bucket(60)\n",
    "fill(bucket,100)\n",
    "print(bucket)\n",
    "\n",
    "if deduct(bucket,99):\n",
    "    print('deduct 99 quota')\n",
    "else:\n",
    "    print('not enough')\n",
    "if deduct(bucket,99):\n",
    "    print('deduct 99 quota')\n",
    "else:\n",
    "    print('not enough')\n",
    "\n"
   ]
  },
  {
   "cell_type": "code",
   "execution_count": null,
   "metadata": {},
   "outputs": [],
   "source": [
    "# 此时如需记录初始配额max_quota和本周期内已消耗的水，"
   ]
  }
 ],
 "metadata": {
  "interpreter": {
   "hash": "da98b85f5fd35f19dc1b02c2d64d6da481fbbc7b2c373d298483d1f27a7dcede"
  },
  "kernelspec": {
   "display_name": "Python 3.8.8 ('YOLOv5')",
   "language": "python",
   "name": "python3"
  },
  "language_info": {
   "codemirror_mode": {
    "name": "ipython",
    "version": 3
   },
   "file_extension": ".py",
   "mimetype": "text/x-python",
   "name": "python",
   "nbconvert_exporter": "python",
   "pygments_lexer": "ipython3",
   "version": "3.9.2"
  },
  "orig_nbformat": 4
 },
 "nbformat": 4,
 "nbformat_minor": 2
}
