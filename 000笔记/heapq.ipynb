{
 "cells": [
  {
   "cell_type": "code",
   "execution_count": 1,
   "metadata": {},
   "outputs": [],
   "source": [
    "import heapq"
   ]
  },
  {
   "cell_type": "markdown",
   "metadata": {},
   "source": [
    "python标准库  \n",
    "不同于其他语言的堆标准库，python的堆为最小堆  \n",
    "数据结构中定义堆是一个二叉树，每个父节点的值都只会小于或等于所有孩子结点的值  \n",
    "heapq使用数组实现，从0开始计数,  \n",
    "对所有的k，都有 heap[k] <= heap[2*k+1] 和 heap[k] <= heap[2*k+2]  "
   ]
  },
  {
   "cell_type": "markdown",
   "metadata": {},
   "source": [
    "heapify\n",
    "heappush\n",
    "heappop\n",
    "heappushpop\n",
    "heapreplace\n",
    "merge\n",
    "nlargest / nsmallest"
   ]
  },
  {
   "cell_type": "code",
   "execution_count": 2,
   "metadata": {},
   "outputs": [
    {
     "name": "stdout",
     "output_type": "stream",
     "text": [
      "<class 'list'> <class 'list'>\n",
      "[1, 2, 3, 4, 3, 4, 6, 7, 5, 8, 9]\n"
     ]
    }
   ],
   "source": [
    "# 0. 创建一个堆\n",
    "heap1 = []  # 堆是用列表实现的，空list就是空的堆\n",
    "heap2 = [1,3,4,5,2,3,6,7,4,8,9]\n",
    "heapq.heapify(heap2)  # heapify从列表创建最小堆，原地，无返回值，线性时间内\n",
    "print(type(heap1),type(heap2))\n",
    "print(heap2)\n",
    "# heap2.sort()\n",
    "# print(heap2)"
   ]
  },
  {
   "cell_type": "code",
   "execution_count": 12,
   "metadata": {},
   "outputs": [
    {
     "name": "stdout",
     "output_type": "stream",
     "text": [
      "[8]\n"
     ]
    }
   ],
   "source": [
    "# 1. heappush(heap, item)\n",
    "# 将 item 的值加入 heap 中，保持堆的不变性\n",
    "heap1 = []\n",
    "heapq.heappush(heap1,8)\n",
    "\n",
    "print(heap1)"
   ]
  },
  {
   "cell_type": "code",
   "execution_count": 16,
   "metadata": {},
   "outputs": [],
   "source": [
    "# 2. heapq.heappop(heap)\n",
    "# 弹出并返回 heap 的最小的元素，保持堆的不变性\n",
    "# 如果堆为空，抛出 IndexError\n",
    "# 使用 heap[0] ，可以只访问最小的元素而不弹出它\n",
    "heap1 = [8,2,3,4,5,6]\n",
    "heapq.heapify(heap1)\n",
    "a = heapq.heappop(heap1)\n",
    "print(a,heap1)\n",
    "# heapq.heappop(heap1) 报IndexError"
   ]
  },
  {
   "cell_type": "code",
   "execution_count": 17,
   "metadata": {},
   "outputs": [
    {
     "name": "stdout",
     "output_type": "stream",
     "text": [
      "[4, 5, 6]\n",
      "[5, 9, 6]\n",
      "[5, 9, 6]\n"
     ]
    }
   ],
   "source": [
    "# 3. heapq.heappushpop(heap)\n",
    "# 将 item 放入堆中，然后弹出并返回 heap 的最小元素（先进后出）\n",
    "# 该组合操作比先调用 heappush() 再调用 heappop() 运行起来更有效率。\n",
    "heap1 = []\n",
    "heapq.heappush(heap1,4)\n",
    "heapq.heappush(heap1,5)\n",
    "heapq.heappush(heap1,6)\n",
    "print(heap1)\n",
    "heapq.heappushpop(heap1,9)\n",
    "print(heap1)\n",
    "heapq.heappushpop(heap1,-1) # 先进后出，所以进入的如果是最小的就没变化\n",
    "print(heap1)"
   ]
  },
  {
   "cell_type": "code",
   "execution_count": 18,
   "metadata": {},
   "outputs": [
    {
     "name": "stdout",
     "output_type": "stream",
     "text": [
      "[6, 9, 11]\n",
      "[-1, 9, 11]\n"
     ]
    }
   ],
   "source": [
    "# 4. heapq.heapreplace(heap)\n",
    "# 弹出并返回 heap 中最小的一项，同时推入新的 item （先出后进）堆的大小不变（先出后进）\n",
    "# 如果堆为空则引发 IndexError。\n",
    "# 这个单步骤操作比 heappop() 加 heappush() 更高效，并且在使用固定大小的堆时更为适宜\n",
    "# pop/push 组合总是会从堆中返回一个元素并将其替换为 item。\n",
    "\n",
    "heapq.heapreplace(heap1,11)\n",
    "print(heap1)\n",
    "heapq.heapreplace(heap1,-1) # 先出后进，所以进入的如果是最小的也有变化\n",
    "print(heap1)"
   ]
  },
  {
   "cell_type": "code",
   "execution_count": 22,
   "metadata": {},
   "outputs": [
    {
     "data": {
      "text/plain": [
       "[[1, 2, 3, 4, 5, 6], [1, 2, 3, 4, 5, 6]]"
      ]
     },
     "execution_count": 22,
     "metadata": {},
     "output_type": "execute_result"
    }
   ],
   "source": [
    "# 5. heapq.merge(*iterables, key=None, reverse=False)\n",
    "# 将多个已排序的输入合并为一个已排序的输出（例如，合并来自多个日志文件的带时间戳的条目）\n",
    "# 返回已排序值的 iterator。\n",
    "l1 = [1,2,3,4,5,6]\n",
    "l2 = [8,7,6,5,4]\n",
    "heapq.heapify(l1)\n",
    "heapq.heapify(l2)\n",
    "l = heapq.merge([l1,l1])\n",
    "list(l)"
   ]
  },
  {
   "cell_type": "code",
   "execution_count": 24,
   "metadata": {},
   "outputs": [
    {
     "name": "stdout",
     "output_type": "stream",
     "text": [
      "[-1, 4, 4, 5, 5, 11, 6, 9, 6]\n",
      "[11, 9, 6]\n",
      "[-1, 4, 4]\n",
      "[9, 8, 7]\n"
     ]
    }
   ],
   "source": [
    "# 6.7. heapq.nlargest/nsmallest(m,iterable,key=None)\n",
    "# 从iterable里返回n个最大/小元素组成的列表\n",
    "# 等价于: sorted(iterable, key=key, reverse=True/False)[:n]\n",
    "# 在 n 值较小时性能最好, 对于更大的n，使用 sorted() 函数会更有效率\n",
    "# 此外，当 n==1 时，使用内置的 min() 和 max() 函数会更有效率\n",
    "# 如果需要重复使用这些函数，请考虑将可迭代对象转为真正的堆 -?\n",
    "heapq.heappush(heap1,4)\n",
    "heapq.heappush(heap1,5)  \n",
    "heapq.heappush(heap1,6)\n",
    "print(heap1)\n",
    "print(heapq.nlargest(3,heap1))\n",
    "print(heapq.nsmallest(3,heap1))\n",
    "\n",
    "\n",
    "# 输入是iterable，并不要求已经heapify\n",
    "print(heapq.nlargest(3,[i for i in range(10)]))"
   ]
  },
  {
   "cell_type": "code",
   "execution_count": 25,
   "metadata": {},
   "outputs": [
    {
     "name": "stdout",
     "output_type": "stream",
     "text": [
      "[1, 1, 2, 2, 3, 3, 4, 4, 4, 5, 6, 7, 7, 9]\n"
     ]
    }
   ],
   "source": [
    "# 堆排序示例，不稳定排序\n",
    "def heapsort(iterable):\n",
    "    heapq.heapify(iterable)\n",
    "    return [heapq.heappop(iterable) for i in range(len(iterable))]\n",
    "\n",
    "print(heapsort([1,2,4,5,7,4,3,2,6,7,1,4,3,9]))\n"
   ]
  }
 ],
 "metadata": {
  "kernelspec": {
   "display_name": "Python 3.7.3 ('base')",
   "language": "python",
   "name": "python3"
  },
  "language_info": {
   "codemirror_mode": {
    "name": "ipython",
    "version": 3
   },
   "file_extension": ".py",
   "mimetype": "text/x-python",
   "name": "python",
   "nbconvert_exporter": "python",
   "pygments_lexer": "ipython3",
   "version": "3.7.3"
  },
  "orig_nbformat": 4,
  "vscode": {
   "interpreter": {
    "hash": "91bb753b057673435fb8d6f6a083e6c818364728098c7ae050ca3a25357dd754"
   }
  }
 },
 "nbformat": 4,
 "nbformat_minor": 2
}
