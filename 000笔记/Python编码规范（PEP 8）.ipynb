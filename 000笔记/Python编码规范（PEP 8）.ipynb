{
 "cells": [
  {
   "cell_type": "markdown",
   "metadata": {},
   "source": [
    "# Python编码规范（PEP 8）\n",
    "PEP 8官网 [python.org](https://peps.python.org/pep-0008/)  \n",
    "Python PEP8 编码规范中文版 [cnblogs.com](https://cnblogs.com/bymo/p/9567140.html)\n"
   ]
  },
  {
   "cell_type": "markdown",
   "metadata": {},
   "source": [
    "## Introduction\n",
    "The Zen of Python [https://peps.python.org/pep-0020/](https://peps.python.org/pep-0020/)  \n",
    ">Beautiful is better than ugly.  \n",
    "Explicit is better than implicit.  \n",
    "Simple is better than complex.  \n",
    "Complex is better than complicated.  \n",
    "Flat is better than nested.  \n",
    "Sparse is better than dense.  \n",
    "Readability counts.  \n",
    "Special cases aren't special enough to break the rules.  \n",
    "Although practicality beats purity.  \n",
    "Errors should never pass silently.  \n",
    "Unless explicitly silenced.  \n",
    "In the face of ambiguity, refuse the temptation to guess.  \n",
    "There should be one-- and preferably only one --obvious way to do it.  \n",
    "Although that way may not be obvious at first unless you're Dutch.  \n",
    "Now is better than never.  \n",
    "Although never is often better than *right* now.  \n",
    "If the implementation is hard to explain, it's a bad idea.  \n",
    "If the implementation is easy to explain, it may be a good idea.  \n",
    "Namespaces are one honking great idea -- let's do more of those!  "
   ]
  },
  {
   "cell_type": "code",
   "execution_count": 15,
   "metadata": {},
   "outputs": [
    {
     "name": "stdout",
     "output_type": "stream",
     "text": [
      "The Zen of Python, by Tim Peters\n",
      "\n",
      "Beautiful is better than ugly.\n",
      "Explicit is better than implicit.\n",
      "Simple is better than complex.\n",
      "Complex is better than complicated.\n",
      "Flat is better than nested.\n",
      "Sparse is better than dense.\n",
      "Readability counts.\n",
      "Special cases aren't special enough to break the rules.\n",
      "Although practicality beats purity.\n",
      "Errors should never pass silently.\n",
      "Unless explicitly silenced.\n",
      "In the face of ambiguity, refuse the temptation to guess.\n",
      "There should be one-- and preferably only one --obvious way to do it.\n",
      "Although that way may not be obvious at first unless you're Dutch.\n",
      "Now is better than never.\n",
      "Although never is often better than *right* now.\n",
      "If the implementation is hard to explain, it's a bad idea.\n",
      "If the implementation is easy to explain, it may be a good idea.\n",
      "Namespaces are one honking great idea -- let's do more of those!\n"
     ]
    }
   ],
   "source": [
    "import this\n",
    "s = ''\n",
    "for c in this.s:\n",
    "    try:\n",
    "        s += this.d[c]\n",
    "    except:\n",
    "        s += c\n",
    "print(s)"
   ]
  },
  {
   "cell_type": "markdown",
   "metadata": {},
   "source": [
    "## 尽信书不如无书\n",
    "不要为了遵守PEP约定而破坏兼容性！  \n"
   ]
  },
  {
   "cell_type": "markdown",
   "metadata": {},
   "source": [
    "## 代码布局Code lay-out"
   ]
  },
  {
   "cell_type": "markdown",
   "metadata": {},
   "source": [
    "### 1.缩进Indentation\n",
    "每一级缩进使用4个空格  \n",
    "续行应该与其包裹元素对齐，要么使用圆括号、方括号和花括号内的隐式行连接来垂直对齐，要么使用挂行缩进对齐3。当使用挂行缩进时，应该考虑到第一行不应该有参数，以及使用缩进以区分自己是续行。  \n",
    "Continuation lines should align wrapped elements either vertically using Python’s implicit line joining inside parentheses, brackets and braces, or using a hanging indent. When using a hanging indent the following should be considered; there should be no arguments on the first line and further indentation should be used to clearly distinguish itself as a continuation line:"
   ]
  },
  {
   "cell_type": "code",
   "execution_count": null,
   "metadata": {},
   "outputs": [],
   "source": [
    "# Correct:\n",
    "\n",
    "# 与左括号对齐\n",
    "# Aligned with opening delimiter.\n",
    "foo = long_function_name(var_one, var_two,\n",
    "                         var_three, var_four)\n",
    "\n",
    "# 增加一级缩进与其他行区分\n",
    "# Add 4 spaces (an extra level of indentation) to distinguish arguments from the rest.\n",
    "def long_function_name(\n",
    "        var_one, var_two, var_three,\n",
    "        var_four):\n",
    "    print(var_one)\n",
    "\n",
    "# 挂行缩进应再换一行\n",
    "# Hanging indents should add a level.\n",
    "foo = long_function_name(\n",
    "    var_one, var_two,\n",
    "    var_three, var_four)\n",
    "\n",
    "# also correct: 四空格规则对续行是可选的，右括号的不同位置也都是可接受的\n",
    "foo = long_function_name(\n",
    "  var_one, var_two,\n",
    "  var_three, var_four)\n",
    "foo = long_function_name(\n",
    "    var_one, var_two,\n",
    "    var_three, var_four\n",
    "    )\n",
    "foo = long_function_name(\n",
    "    var_one, var_two,\n",
    "    var_three, var_four\n",
    ")"
   ]
  },
  {
   "cell_type": "markdown",
   "metadata": {},
   "source": [
    "### 2.Tabs or Spaces\n",
    "建议使用空格缩进，混用空格和制表符是不行的  \n",
    "但是现代IDE应该会处理好这个问题"
   ]
  },
  {
   "cell_type": "markdown",
   "metadata": {},
   "source": [
    "### 3.行的长度Maximum Line Length\n",
    "限制所有行长度在79个字符  \n",
    "文档字符或注释则限制在72个字符  \n",
    "多行优先使用隐式续行方式（在括号内折行），但是反斜杠的方式有时候也是很有用的，例如多个with语句"
   ]
  },
  {
   "cell_type": "code",
   "execution_count": null,
   "metadata": {},
   "outputs": [],
   "source": [
    "with open('/path/to/some/file/you/want/to/read') as file_1, \\\n",
    "     open('/path/to/some/file/being/written', 'w') as file_2:\n",
    "    file_2.write(file_1.read())"
   ]
  },
  {
   "cell_type": "markdown",
   "metadata": {},
   "source": [
    "### 4.二元运算符前换行\n",
    "在二元运算符后换行会影响可读性"
   ]
  },
  {
   "cell_type": "code",
   "execution_count": null,
   "metadata": {},
   "outputs": [],
   "source": [
    "# Correct:\n",
    "# easy to match operators with operands\n",
    "income = (gross_wages\n",
    "          + taxable_interest\n",
    "          + (dividends - qualified_dividends)\n",
    "          - ira_deduction\n",
    "          - student_loan_interest)"
   ]
  },
  {
   "cell_type": "markdown",
   "metadata": {},
   "source": [
    "### 5.空行Blank Lines\n",
    "顶层函数和类的定义，前后用两个空行隔开。  \n",
    "类里的方法定义用一个空行隔开。  \n",
    "相关的功能组可以用额外的空行（谨慎使用）隔开。一堆相关的单行代码之间的空白行可以省略。  \n",
    "在函数中使用空行来区分逻辑段（谨慎使用）。"
   ]
  },
  {
   "cell_type": "markdown",
   "metadata": {},
   "source": [
    "### 6.源文件编码\n",
    "默认UTF-8"
   ]
  },
  {
   "cell_type": "markdown",
   "metadata": {},
   "source": [
    "### 7.导入\n",
    "不同模块一般分开导入，导入多个子模块可以使用一行  \n",
    "导入总是位于文件的顶部，在模块注释和文档字符串之后，在模块的全局变量与常量之前。 \n",
    "导入应该按照以下顺序分组：\n",
    "1. 标准库导入\n",
    "2. 相关第三方库导入\n",
    "3. 本地应用/库特定导入  \n",
    "\n",
    "你应该在每一组导入之间加入空行。  \n",
    "避免通配符导入（from import *），因为这样做会不知道命名空间中存在哪些名字，会使得读取接口和许多自动化工具之间产生混淆。"
   ]
  },
  {
   "cell_type": "code",
   "execution_count": null,
   "metadata": {},
   "outputs": [],
   "source": [
    "# Correct:\n",
    "import os\n",
    "import sys\n",
    "# Wrong:\n",
    "import sys, os\n",
    "# It’s okay to say this though:\n",
    "# Correct:\n",
    "from subprocess import Popen, PIPE"
   ]
  },
  {
   "cell_type": "markdown",
   "metadata": {},
   "source": [
    "### 8.模块级双下划线变量名Module Level Dunder Names\n",
    ">*“Dunder” method name is the common pronunciation for python’s built-in method names that start and end with double underscores. Since “Dunder” is easier to say than “double underscore”, the name stuck.*\n",
    "\n",
    "dunders需要在docstring后，\\_\\_future\\_\\_ import 后"
   ]
  },
  {
   "cell_type": "code",
   "execution_count": null,
   "metadata": {},
   "outputs": [],
   "source": [
    "\"\"\"This is the example module.\n",
    "\n",
    "This module does stuff.\n",
    "\"\"\"\n",
    "\n",
    "from __future__ import barry_as_FLUFL\n",
    "\n",
    "__all__ = ['a', 'b', 'c']\n",
    "__version__ = '0.1'\n",
    "__author__ = 'Cardinal Biggles'\n",
    "\n",
    "import os\n",
    "import sys"
   ]
  },
  {
   "cell_type": "markdown",
   "metadata": {},
   "source": [
    "## 字符串引号String Quotes\n",
    "在Python中，单引号和双引号字符串是相同的。PEP不会为这个给出建议。选择一条规则并坚持使用下去。当一个字符串中包含单引号或者双引号字符的时候，使用和最外层不同的符号来避免使用反斜杠，从而提高可读性。 \n",
    "\n",
    "对于三引号字符串，总是使用双引号字符来与PEP 257中的文档字符串约定保持一致。"
   ]
  },
  {
   "cell_type": "markdown",
   "metadata": {},
   "source": [
    "## 空格Whitespace in Expressions and Statements"
   ]
  },
  {
   "cell_type": "markdown",
   "metadata": {},
   "source": [
    "### 讨厌的事Pet Peeves\n",
    "Avoid extraneous whitespace in the following situations:"
   ]
  },
  {
   "cell_type": "markdown",
   "metadata": {},
   "source": [
    "#### 1.Immediately inside parentheses, brackets or braces:"
   ]
  },
  {
   "cell_type": "code",
   "execution_count": null,
   "metadata": {},
   "outputs": [],
   "source": [
    "# 避免紧跟在小括号，中括号或者大括号后。\n",
    "# Correct:\n",
    "spam(ham[1], {eggs: 2})\n",
    "# Wrong:\n",
    "spam( ham[ 1 ], { eggs: 2 } )"
   ]
  },
  {
   "cell_type": "markdown",
   "metadata": {},
   "source": [
    "#### 2.Between a trailing comma and a following close parenthesis:"
   ]
  },
  {
   "cell_type": "code",
   "execution_count": null,
   "metadata": {},
   "outputs": [],
   "source": [
    "# 避免在逗号和右括号之间。\n",
    "# Correct:\n",
    "foo = (0,)\n",
    "# Wrong:\n",
    "bar = (0, )"
   ]
  },
  {
   "cell_type": "markdown",
   "metadata": {},
   "source": [
    "#### 3.Immediately before a comma, semicolon, or colon:\n",
    "避免在逗号分号冒号前；  \n",
    "但是在数组切片中除外，在切片中的原则是最能让人看清楚。"
   ]
  },
  {
   "cell_type": "code",
   "execution_count": null,
   "metadata": {},
   "outputs": [],
   "source": [
    "# Correct:\n",
    "if x == 4: print(x, y); x, y = y, x\n",
    "# Wrong:\n",
    "if x == 4 : print(x , y) ; x , y = y , x\n",
    "\n",
    "# Correct:\n",
    "ham[1:9], ham[1:9:3], ham[:9:3], ham[1::3], ham[1:9:]\n",
    "ham[lower:upper], ham[lower:upper:], ham[lower::step]\n",
    "ham[lower+offset : upper+offset]\n",
    "ham[lower + offset : upper + offset]\n",
    "ham[: upper_fn(x) : step_fn(x)], ham[:: step_fn(x)]"
   ]
  },
  {
   "cell_type": "markdown",
   "metadata": {},
   "source": [
    "#### 4.Immediately before the open parenthesis that starts the argument list of a function call:"
   ]
  },
  {
   "cell_type": "code",
   "execution_count": null,
   "metadata": {},
   "outputs": [],
   "source": [
    "# 避免紧跟在调用函数的左括号前\n",
    "# Correct:\n",
    "spam(1)\n",
    "# Wrong:\n",
    "spam (1)"
   ]
  },
  {
   "cell_type": "markdown",
   "metadata": {},
   "source": [
    "#### 5.Immediately before the open parenthesis that starts an indexing or slicing:"
   ]
  },
  {
   "cell_type": "code",
   "execution_count": null,
   "metadata": {},
   "outputs": [],
   "source": [
    "# 避免紧跟在索引或切片的左括号前\n",
    "# Correct:\n",
    "dct['key'] = lst[index]\n",
    "# Wrong:\n",
    "dct ['key'] = lst [index]"
   ]
  },
  {
   "cell_type": "markdown",
   "metadata": {},
   "source": [
    "#### 6.More than one space around an assignment (or other) operator to align it with another:"
   ]
  },
  {
   "cell_type": "code",
   "execution_count": null,
   "metadata": {},
   "outputs": [],
   "source": [
    "# 避免为了对齐等号添加额外空格\n",
    "# Correct:\n",
    "x = 1\n",
    "y = 2\n",
    "long_variable = 3\n",
    "# Wrong:\n",
    "x             = 1\n",
    "y             = 2\n",
    "long_variable = 3"
   ]
  },
  {
   "cell_type": "markdown",
   "metadata": {},
   "source": [
    "### 其他建议\n",
    "* 避免在尾部添加空格\n",
    "* 总是在二元运算符**两边**加一个空格：赋值（=），增量赋值（+=，-=），比较（==,<,>,!=,<>,<=,>=,in,not,in,is,is not），布尔（and, or, not）。\n",
    "* 如果使用具有不同优先级的运算符，请考虑在具有最低优先级的运算符周围添加空格。有时需要通过自己来判断；但是，不要使用一个以上的空格，并且在二元运算符的两边使用相同数量的空格。\n"
   ]
  },
  {
   "cell_type": "code",
   "execution_count": null,
   "metadata": {},
   "outputs": [],
   "source": [
    "# Correct:\n",
    "i = i + 1\n",
    "submitted += 1\n",
    "x = x*2 - 1\n",
    "hypot2 = x*x + y*y\n",
    "c = (a+b) * (a-b)\n",
    "# Wrong:\n",
    "i=i+1\n",
    "submitted +=1\n",
    "x = x * 2 - 1\n",
    "hypot2 = x * x + y * y\n",
    "c = (a + b) * (a - b)"
   ]
  },
  {
   "cell_type": "markdown",
   "metadata": {},
   "source": [
    "* 在制定关键字参数或者默认参数值的时候，不要在=附近加上空格。 "
   ]
  },
  {
   "cell_type": "code",
   "execution_count": null,
   "metadata": {},
   "outputs": [],
   "source": [
    "# Correct:\n",
    "def complex(real, imag=0.0):\n",
    "    return magic(r=real, i=imag)\n",
    "# Wrong:\n",
    "def complex(real, imag = 0.0):\n",
    "    return magic(r = real, i = imag)"
   ]
  },
  {
   "cell_type": "markdown",
   "metadata": {},
   "source": [
    "* 功能型注释应该使用冒号的一般性规则，并且在使用->的时候要在两边加空格。（参考下面的功能注释得到能够多信息） "
   ]
  },
  {
   "cell_type": "code",
   "execution_count": null,
   "metadata": {},
   "outputs": [],
   "source": [
    "# Correct:\n",
    "def munge(input: AnyStr): ...\n",
    "def munge() -> PosInt: ...\n",
    "# Wrong:\n",
    "def munge(input:AnyStr): ...\n",
    "def munge()->PosInt: ..."
   ]
  },
  {
   "cell_type": "markdown",
   "metadata": {},
   "source": [
    "* 当给**有类型备注**的参数赋值的时候，在=两边添加空格（仅针对那种有类型备注和默认值的参数）。"
   ]
  },
  {
   "cell_type": "code",
   "execution_count": null,
   "metadata": {},
   "outputs": [],
   "source": [
    "from typing import AnyStr\n",
    "# Correct:\n",
    "def munge(sep: AnyStr = None): ...\n",
    "def munge(input: AnyStr, sep: AnyStr = None, limit=1000): ...\n",
    "# Wrong:\n",
    "def munge(input: AnyStr=None): ...\n",
    "def munge(input: AnyStr, limit = 1000): ..."
   ]
  },
  {
   "cell_type": "markdown",
   "metadata": {},
   "source": [
    "* 复合语句通常不允许  \n",
    "Compound statements are generally discouraged  \n",
    "但一些很短的语句（如单个if，for，while）放在同一行没什么问题"
   ]
  },
  {
   "cell_type": "code",
   "execution_count": null,
   "metadata": {},
   "outputs": [],
   "source": [
    "# Correct:\n",
    "if foo == 'blah':\n",
    "    do_blah_thing()\n",
    "do_one()\n",
    "do_two()\n",
    "do_three()\n",
    "\n",
    "# Wrong (Rather not):\n",
    "if foo == 'blah': do_blah_thing()\n",
    "do_one(); do_two(); do_three()\n",
    "for x in lst: total += x\n",
    "while t < 10: t = delay()\n",
    "\n",
    "# Wrong (Definately not):\n",
    "if foo == 'blah': do_blah_thing()\n",
    "else: do_non_blah_thing()\n",
    "\n",
    "try: something()\n",
    "finally: cleanup()\n",
    "\n",
    "do_one(); do_two(); do_three(long, argument,\n",
    "                             list, like, this)\n",
    "\n",
    "if foo == 'blah': one(); two(); three()"
   ]
  },
  {
   "cell_type": "markdown",
   "metadata": {},
   "source": [
    "## 何时使用\",)\" When to use trailing commas\n",
    "trailing commas通常是可选的，除非指定变量为tuple的情况，此时应使用括号包围"
   ]
  },
  {
   "cell_type": "code",
   "execution_count": 2,
   "metadata": {},
   "outputs": [
    {
     "name": "stdout",
     "output_type": "stream",
     "text": [
      "<class 'str'> <class 'tuple'> <class 'tuple'>\n"
     ]
    }
   ],
   "source": [
    "a = ('hello')\n",
    "b = ('world',)\n",
    "c = '!', # 此时也是tuple，但不推荐\n",
    "print(type(a),type(b),type(c))"
   ]
  },
  {
   "cell_type": "markdown",
   "metadata": {},
   "source": [
    "trailing commas在版本控制中有用，通常拆分为多行，见下例"
   ]
  },
  {
   "cell_type": "code",
   "execution_count": null,
   "metadata": {},
   "outputs": [],
   "source": [
    "# Correct:\n",
    "FILES = [\n",
    "    'setup.cfg',\n",
    "    'tox.ini',\n",
    "    ] # 方便在后续版本中添加和删除\n",
    "initialize(FILES,\n",
    "           error=True,\n",
    "           )\n",
    "# Wrong:\n",
    "FILES = ['setup.cfg', 'tox.ini',]\n",
    "initialize(FILES, error=True,)"
   ]
  },
  {
   "cell_type": "markdown",
   "metadata": {},
   "source": [
    "## 注释Comments\n",
    "* 与代码相矛盾的注释比没有注释还糟，当代码更改时，优先更新对应的注释！   \n",
    "* 注释应该是完整的句子。如果一个注释是一个短语或句子，它的第一个单词应该大写，除非它是以小写字母开头的标识符(永远不要改变标识符的大小写！)。  \n",
    "* 如果注释很短，结尾的句号可以省略。块注释一般由完整句子的一个或多个段落组成，并且每句话结束有个句号。  \n",
    "* 在注释的句号后使用两个空格，除非是注释的最后一句。  \n",
    "* 确保注释易懂\n",
    "* 在非英语国家的Python程序员，请使用英文写注释，除非你120%的确信你的代码不会被使用其他语言的人阅读。"
   ]
  },
  {
   "cell_type": "markdown",
   "metadata": {},
   "source": [
    "### 块注释Block Comments\n",
    "块注释(这里与docstring区分)通常用来注释紧接其后的代码，因此与其后代码保持相同缩进  \n",
    "块注释以#和一个空格开始  \n",
    "块注释中的段落用只含一个#的空行隔开"
   ]
  },
  {
   "cell_type": "markdown",
   "metadata": {},
   "source": [
    "### 行内注释Inline Comments\n",
    "有节制地（sparingly）使用行内注释。\n",
    "行内注释是与代码语句同行的注释。行内注释和代码至少要有两个空格分隔。注释由#和一个空格开始。\n",
    "事实上，如果状态明显的话，行内注释是不必要的，反而会分散注意力。"
   ]
  },
  {
   "cell_type": "code",
   "execution_count": null,
   "metadata": {},
   "outputs": [],
   "source": [
    "# wrong, too obvious\n",
    "x = x + 1                 # Increment x\n",
    "# Correct\n",
    "x = x + 1                 # Compensate for border"
   ]
  },
  {
   "cell_type": "markdown",
   "metadata": {},
   "source": [
    "### Docstring\n",
    "Conventions for writing good documentation strings (a.k.a. “docstrings”) are immortalized in [PEP 257](https://peps.python.org/pep-0257/).  \n",
    "写文档说明是一个好习惯  \n",
    "要为所有的公共模块，函数，类以及方法编写文档说明。非公共的方法没有必要，但是应该有一个描述方法具体作用的注释。这个注释应该在def那一行之后。  \n",
    "PEP 257 描述了写出好的文档说明相关的约定。特别需要注意的是，多行文档说明使用的结尾三引号应该自成一行，单行文档则保持一行，例如：  "
   ]
  },
  {
   "cell_type": "code",
   "execution_count": null,
   "metadata": {},
   "outputs": [],
   "source": [
    "def foo():\n",
    "    \"\"\"Return a foobang\n",
    "\n",
    "    Optional plotz says to frobnicate the bizbaz first.\n",
    "    \"\"\"\n",
    "    pass\n",
    "def bar():\n",
    "    \"\"\"Return nothing\"\"\"\n",
    "    pass"
   ]
  },
  {
   "cell_type": "markdown",
   "metadata": {},
   "source": [
    "## 命名规则Naming Conventions\n",
    "TODO 有点多"
   ]
  },
  {
   "cell_type": "markdown",
   "metadata": {},
   "source": [
    "## 编程建议Programming Recommendations\n",
    "* 代码应该用不损害其他Python实现的方式去编写（PyPy，Jython，IronPython，Cython，Psyco 等）。例如不要依赖CPython中的字符串连接语句**a += b**或**a = a + b**，而是用**a.join(b)**来实现，以确保在不同实现中均以线性时间完成。  \n",
    "* 单例对象进行比较时应始终使用is或is not，永远不要用==  \n",
    "* 使用 is not 运算符，而不是 not … is 。虽然这两种表达式在功能上完全相同，但前者更易于阅读，所以优先考虑。  \n",
    "* 始终使用def表达式，而不是用赋值语句将lambda表达式绑定到一个变量。  \n",
    "* 从Exception继承异常，而不是BaseException。直接继承BaseException的异常适用于几乎不用来捕捉的异常。  \n",
    "* 适当地使用异常链接。在Python 3里，为了不丢失原始的根源，可以显式指定“raise X from Y”作为替代。"
   ]
  },
  {
   "cell_type": "markdown",
   "metadata": {},
   "source": [
    "* 使用 ”.startswith() 和 ”.endswith() 代替通过字符串切割的方法去检查前缀和后缀。  \n",
    "startswith()和endswith()更干净，出错几率更小。比如：\n",
    "> 推荐: if foo.startswith('bar'):  \n",
    "糟糕: if foo[:3] == 'bar':"
   ]
  },
  {
   "cell_type": "markdown",
   "metadata": {},
   "source": [
    "* 对于序列来说（strings，lists，tuples），可以使用空序列为false的情况。  \n",
    ">正确: if not seq:  \n",
    "糟糕: if not len(seq):  \n",
    "更糟: if len(seq)==0:  "
   ]
  },
  {
   "cell_type": "markdown",
   "metadata": {},
   "source": [
    "* 不要用==和True或False比较  \n",
    "> 正确: if greeting:  \n",
    "糟糕: if greeting == True:  \n",
    "更糟: if greeting is True:  \n"
   ]
  },
  {
   "cell_type": "code",
   "execution_count": null,
   "metadata": {},
   "outputs": [],
   "source": []
  }
 ],
 "metadata": {
  "interpreter": {
   "hash": "da98b85f5fd35f19dc1b02c2d64d6da481fbbc7b2c373d298483d1f27a7dcede"
  },
  "kernelspec": {
   "display_name": "Python 3.8.8 ('YOLOv5')",
   "language": "python",
   "name": "python3"
  },
  "language_info": {
   "codemirror_mode": {
    "name": "ipython",
    "version": 3
   },
   "file_extension": ".py",
   "mimetype": "text/x-python",
   "name": "python",
   "nbconvert_exporter": "python",
   "pygments_lexer": "ipython3",
   "version": "3.9.2"
  },
  "orig_nbformat": 4
 },
 "nbformat": 4,
 "nbformat_minor": 2
}
