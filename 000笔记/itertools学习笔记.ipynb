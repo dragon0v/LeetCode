{
 "cells": [
  {
   "cell_type": "code",
   "execution_count": 1,
   "metadata": {},
   "outputs": [
    {
     "name": "stdout",
     "output_type": "stream",
     "text": [
      "3.7.3 (default, Apr 24 2019, 15:29:51) [MSC v.1915 64 bit (AMD64)]\n"
     ]
    }
   ],
   "source": [
    "import sys\n",
    "print(sys.version)"
   ]
  },
  {
   "cell_type": "code",
   "execution_count": 2,
   "metadata": {},
   "outputs": [],
   "source": [
    "from itertools import * "
   ]
  },
  {
   "cell_type": "markdown",
   "metadata": {},
   "source": [
    "https://blog.csdn.net/neweastsun/article/details/51965226\n",
    "itertools中的class所有的返回值都是iterable"
   ]
  },
  {
   "cell_type": "code",
   "execution_count": 3,
   "metadata": {},
   "outputs": [
    {
     "name": "stdout",
     "output_type": "stream",
     "text": [
      "[1, 2, 3, 4, 5, 'sd', 'ds', 'fgg', True, False, 0, 1]\n"
     ]
    }
   ],
   "source": [
    "# ----------------------------------\n",
    "# 1. chain：把多个iterable链接在一起\n",
    "# ----------------------------------\n",
    "a = [1,2,3,4,5]\n",
    "b = (\"sd\",\"ds\",\"fgg\")\n",
    "c = [True,False]\n",
    "d = range(2)\n",
    "\n",
    "print(list(chain(a,b,c,d)))\n",
    "# print(a+d+c+d)  # 报错"
   ]
  },
  {
   "cell_type": "code",
   "execution_count": 4,
   "metadata": {},
   "outputs": [
    {
     "name": "stdout",
     "output_type": "stream",
     "text": [
      "100\n",
      "103\n",
      "106\n",
      "109\n",
      "112\n"
     ]
    }
   ],
   "source": [
    "# ----------------------------------\n",
    "# 2. count(start=0,step=1)：生成无限的序列，必须手动break\n",
    "# ----------------------------------\n",
    "for each in count(100,3):\n",
    "    print(each)\n",
    "    if each>110:break\n",
    "    "
   ]
  },
  {
   "cell_type": "code",
   "execution_count": 5,
   "metadata": {},
   "outputs": [
    {
     "name": "stdout",
     "output_type": "stream",
     "text": [
      "[0, False, '', {}, None]\n",
      "[11, 222]\n",
      "[11, 222]\n"
     ]
    }
   ],
   "source": [
    "# ----------------------------------\n",
    "# 3. filter/filterfalse(contintion,data)：\n",
    "# 迭代过滤条件为True的数据。如果条件为空，返回data中为True的项；\n",
    "# 迭代过滤条件为false的数据。如果条件为空，返回data中为false的项；\n",
    "# ----------------------------------\n",
    "d = [1,2,0,11,222,True,False,'','asd',{'1':3},{},None,lambda a,b:a+b]\n",
    "print(list(filterfalse(None,d))) #没有给定条件，返回d中为false的项\n",
    "print(list(filter(lambda x:type(x)==int and x>3,d)))\n",
    "print(list(filterfalse(lambda x:type(x)!=int or x<3,d)))\n"
   ]
  },
  {
   "cell_type": "code",
   "execution_count": 6,
   "metadata": {},
   "outputs": [
    {
     "name": "stdout",
     "output_type": "stream",
     "text": [
      "[1, 4]\n"
     ]
    }
   ],
   "source": [
    "# ----------------------------------\n",
    "# 4. compress(data,selectors)：\n",
    "# 根据selectors中的真值，返回data中对应的元素\n",
    "# ----------------------------------\n",
    "print(list(compress([1,2,3,4],[True,False,0,1,1,1,1])))# 长度不一致按最短的匹配"
   ]
  },
  {
   "cell_type": "code",
   "execution_count": 7,
   "metadata": {},
   "outputs": [
    {
     "name": "stdout",
     "output_type": "stream",
     "text": [
      "[1, 81, 15625]\n",
      "[3, 5, 9]\n",
      "[(2,), (5, 6, 7), (103, 7)]\n",
      "['sad', 'yxz', 'bac']\n"
     ]
    }
   ],
   "source": [
    "# ----------------------------------\n",
    "# 5. starmap(func,list)：对list的*每一项*调用func\n",
    "# ----------------------------------\n",
    "print(list(starmap(pow,[(1,2),(3,4),(5,6)])))\n",
    "print(list(starmap(max,[(1,2,3),(3,4,5),(7,8,9)])))\n",
    "def foo(*args):\n",
    "    # 取中间一半\n",
    "    n = len(args)\n",
    "    return args[int(n*0.25)+1:int(n*0.75)]\n",
    "print(list(starmap(foo,[(3,2,1),(3,4,5,6,7,8,9),(100,102,103,7,8,9)])))\n",
    "print(list(starmap(lambda s1,s2,s3:s2+s1+s3,[(\"asd\"),(\"xyz\"),(\"abc\")])))\n"
   ]
  },
  {
   "cell_type": "code",
   "execution_count": 8,
   "metadata": {},
   "outputs": [
    {
     "name": "stdout",
     "output_type": "stream",
     "text": [
      "['xzy', 'xzy', 'xzy']\n",
      "[[1, 2], [1, 2], [1, 2]]\n",
      "[[1, 2], [1, 2], [1, 2]]\n"
     ]
    }
   ],
   "source": [
    "# ----------------------------------\n",
    "# 6. repeat(object,times)：重复object times遍\n",
    "# ----------------------------------\n",
    "print(list(repeat('xzy',3)))\n",
    "print(list(repeat([1,2],3)))\n",
    "print([[1,2]]*3)\n"
   ]
  },
  {
   "cell_type": "code",
   "execution_count": 9,
   "metadata": {},
   "outputs": [
    {
     "name": "stdout",
     "output_type": "stream",
     "text": [
      "['start', '3', '4', 'end', '5', '6']\n",
      "['1', '2', 'start', '3', '4']\n"
     ]
    }
   ],
   "source": [
    "# ----------------------------------\n",
    "# 7. dropwhile(func,seq)：当func返回假时开始迭代序列\n",
    "# 8. takewhile(func,seq)：一直迭代序列直到func返回假\n",
    "# ----------------------------------\n",
    "print(list(dropwhile(lambda s:s!='start',['1','2','start','3','4','end','5','6'])))\n",
    "print(list(takewhile(lambda s:s!='end',['1','2','start','3','4','end','5','6'])))"
   ]
  },
  {
   "cell_type": "code",
   "execution_count": 10,
   "metadata": {},
   "outputs": [
    {
     "name": "stdout",
     "output_type": "stream",
     "text": [
      "['a', 'c', 'e', 'g']\n"
     ]
    }
   ],
   "source": [
    "# ----------------------------------\n",
    "# 9. islice(seq[,start],stop[,step])\n",
    "# 返回序列seq的从start开始到stop结束的步长为step的元素的迭代器\n",
    "# ----------------------------------\n",
    "print(list(islice('abcdefghij',0,8,2)))"
   ]
  },
  {
   "cell_type": "code",
   "execution_count": 11,
   "metadata": {},
   "outputs": [
    {
     "name": "stdout",
     "output_type": "stream",
     "text": [
      "[('A', 'x'), ('A', 'y'), ('B', 'x'), ('B', 'y'), ('C', 'x'), ('C', 'y'), ('D', 'x'), ('D', 'y')]\n",
      "[(0, 0, 0), (0, 0, 1), (0, 1, 0), (0, 1, 1), (1, 0, 0), (1, 0, 1), (1, 1, 0), (1, 1, 1)]\n"
     ]
    }
   ],
   "source": [
    "# ----------------------------------\n",
    "# 10. product(iter1,iter2, ... iterN, [repeat=1])\n",
    "# 生成表示item1，item2等中的项目的笛卡尔积的元组，重复repeat次\n",
    "# ----------------------------------\n",
    "print(list(product('ABCD', 'xy'))) # --> Ax Ay Bx By Cx Cy Dx Dy))\n",
    "print(list(product(range(2), repeat=3))) # --> 000 001 010 011 100 101 110 111"
   ]
  },
  {
   "cell_type": "code",
   "execution_count": 12,
   "metadata": {},
   "outputs": [
    {
     "name": "stdout",
     "output_type": "stream",
     "text": [
      "[(0, 1), (0, 2), (1, 0), (1, 2), (2, 0), (2, 1)]\n"
     ]
    }
   ],
   "source": [
    "# ----------------------------------\n",
    "# 11. permutations(p,r)\n",
    "# 返回p中任意取r个元素做排列的元组的迭代器\n",
    "# ----------------------------------\n",
    "print(list(permutations(range(3),2)))"
   ]
  },
  {
   "cell_type": "code",
   "execution_count": 13,
   "metadata": {},
   "outputs": [
    {
     "name": "stdout",
     "output_type": "stream",
     "text": [
      "[(1, 2, 3), (1, 2, 4), (1, 3, 4), (2, 3, 4)]\n",
      "[(1, 1, 1), (1, 1, 2), (1, 1, 3), (1, 1, 4), (1, 2, 2), (1, 2, 3), (1, 2, 4), (1, 3, 3), (1, 3, 4), (1, 4, 4), (2, 2, 2), (2, 2, 3), (2, 2, 4), (2, 3, 3), (2, 3, 4), (2, 4, 4), (3, 3, 3), (3, 3, 4), (3, 4, 4), (4, 4, 4)]\n",
      "(1, 5, 7)\n",
      "(2, 5, 6)\n",
      "(2, 7, 4)\n",
      "(3, 4, 6)\n"
     ]
    }
   ],
   "source": [
    "# ----------------------------------\n",
    "# 12. combinations(iterable,r)\n",
    "# 返回iterable中所有长度为r的子序列，保留相对顺序\n",
    "# 13. combinations_with_replacement(iterable,r)\n",
    "# 返回iterable中所有长度为r的子序列，保留相对顺序，元素可以重复使用\n",
    "# ----------------------------------\n",
    "print(list(combinations([1,2,3,4],3)))\n",
    "print(list(combinations_with_replacement([1,2,3,4],3)))\n",
    "\n",
    "# 在列表中找到三个和为13的数\n",
    "for pairs in list(combinations([1,2,5,65,7,3,4,6],3)):\n",
    "    if sum(pairs)==13:\n",
    "        print(pairs)"
   ]
  },
  {
   "cell_type": "code",
   "execution_count": 14,
   "metadata": {},
   "outputs": [
    {
     "name": "stdout",
     "output_type": "stream",
     "text": [
      "a1b2c3def\n"
     ]
    }
   ],
   "source": [
    "# ----------------------------------\n",
    "# 14. zip_longest(it1,it2,...,fillvalue=None)\n",
    "# zip是取最短的，zip_longest取最长的，超出长度的元素取fillvalue\n",
    "# ----------------------------------\n",
    "\n",
    "w1 = 'abcdef'\n",
    "w2 = '123'\n",
    "print(''.join([c1+c2 for c1,c2 in zip_longest(w1,w2,fillvalue='')]))\n",
    "    "
   ]
  },
  {
   "cell_type": "code",
   "execution_count": 18,
   "metadata": {},
   "outputs": [
    {
     "name": "stdout",
     "output_type": "stream",
     "text": [
      "3\n",
      "[-5, -5, -25, 100, 300, -1800, -16200]\n",
      "[-5, 1, 5, 5, 5, 5, 9]\n"
     ]
    }
   ],
   "source": [
    "# ----------------------------------\n",
    "# 15. accumulate(iterable[, func])\n",
    "# 对iterable逐个进行func的操作，默认func是累加\n",
    "# ----------------------------------\n",
    "\n",
    "# 找到前缀和的最大值\n",
    "gain = [-5,1,5,-4,3,-6,9]\n",
    "print(max(accumulate(gain)))\n",
    "\n",
    "# 得到累乘数组\n",
    "import operator\n",
    "print(list(accumulate(gain,operator.mul)))\n",
    "\n",
    "# 得到当前切片的最大值\n",
    "import operator\n",
    "print(list(accumulate(gain,max)))"
   ]
  }
 ],
 "metadata": {
  "kernelspec": {
   "display_name": "Python 3.7.3 ('base')",
   "language": "python",
   "name": "python3"
  },
  "language_info": {
   "codemirror_mode": {
    "name": "ipython",
    "version": 3
   },
   "file_extension": ".py",
   "mimetype": "text/x-python",
   "name": "python",
   "nbconvert_exporter": "python",
   "pygments_lexer": "ipython3",
   "version": "3.7.3"
  },
  "orig_nbformat": 4,
  "vscode": {
   "interpreter": {
    "hash": "91bb753b057673435fb8d6f6a083e6c818364728098c7ae050ca3a25357dd754"
   }
  }
 },
 "nbformat": 4,
 "nbformat_minor": 2
}
